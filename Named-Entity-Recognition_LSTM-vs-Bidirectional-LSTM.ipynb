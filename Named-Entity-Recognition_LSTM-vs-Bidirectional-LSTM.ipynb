{
 "cells": [
  {
   "cell_type": "markdown",
   "metadata": {},
   "source": [
    "### Paul Adams\n",
    "### DS7337 Natural Language Processing\n",
    "### Homework 4\n",
    "### June 21, 2020\n",
    "</br>\n",
    "</br>\n",
    "(user-defined functions titled in bold)"
   ]
  },
  {
   "cell_type": "code",
   "execution_count": 1,
   "metadata": {},
   "outputs": [],
   "source": [
    "import numpy\n",
    "import tensorflow as tf\n",
    "from tensorflow.keras.datasets import imdb\n",
    "from tensorflow.keras.models import Sequential\n",
    "from tensorflow.keras.layers import Dense\n",
    "from tensorflow.keras.layers import  LSTM as LSTM, SimpleRNN,  GRU\n",
    "from tensorflow.keras.layers import Embedding\n",
    "from tensorflow.keras.preprocessing import sequence\n",
    "# fix random seed for reproducibility\n",
    "numpy.random.seed(7)"
   ]
  },
  {
   "cell_type": "code",
   "execution_count": null,
   "metadata": {},
   "outputs": [],
   "source": [
    "import sys\n",
    "sys.executable\n",
    "config = tf.ConfigProto(device_count = {'GPU': 1})\n",
    "sess = tf.Session(config=config)\n",
    "tf.test.is_gpu_available(cuda_only=False, min_cuda_compute_capability=None)\n",
    "\n",
    "# Get count of GPUs available:\n",
    "print(\"Num GPUs Available: \", len(tf.config.experimental.list_physical_devices('GPU')))"
   ]
  },
  {
   "cell_type": "code",
   "execution_count": 6,
   "metadata": {},
   "outputs": [],
   "source": [
    "#############################################################################\n",
    "######################## SET MEMORY GROWTH = TRUE ###########################\n",
    "\"\"\" run this if you get ResourceExhaustedError \"\"\"\n",
    "physical_devices = tf.config.list_physical_devices('GPU')\n",
    "try:\n",
    "  tf.config.experimental.set_memory_growth(physical_devices[0], True)\n",
    "  assert tf.config.experimental.get_memory_growth(physical_devices[0])\n",
    "except:\n",
    "  # Invalid device or cannot modify virtual devices once initialized.\n",
    "  pass"
   ]
  },
  {
   "cell_type": "code",
   "execution_count": 2,
   "metadata": {},
   "outputs": [],
   "source": [
    "import os\n",
    "import pandas as pd\n",
    "os.chdir('/home/pablo/Desktop/DS7337 Natural Language Processing/HW4')\n",
    "#df_strings = pd.Series(df_doc.split('\\n')).reset_index()\n",
    "df_raw = pd.read_csv('./train.txt', sep=' ', quotechar='\"', doublequote=True, skip_blank_lines=False)"
   ]
  },
  {
   "cell_type": "markdown",
   "metadata": {},
   "source": [
    "# Render Pandas DataFrame"
   ]
  },
  {
   "cell_type": "code",
   "execution_count": 3,
   "metadata": {},
   "outputs": [],
   "source": [
    "def clean_df(DataFrame) -> pd.DataFrame:\n",
    "    '''\n",
    "    Rename columns, drop the bad values, '-DOCSTART-'\n",
    "    '''\n",
    "    DataFrame.columns = ['word','type','part','name']\n",
    "    #DataFrame = DataFrame[DataFrame.word != '-DOCSTART-']\n",
    "# Replace spaces with the original double quotes since pandas removed them in read_csv\n",
    "    for i in range(1, len(DataFrame)):\n",
    "        if((DataFrame.iloc[i,1] == 'O') & (DataFrame.iloc[i,0] == ' ')):\n",
    "            DataFrame.iloc[i,0] = '\"'\n",
    "\n",
    "    for i in range(0, len(DataFrame)):\n",
    "        if((pd.isna(DataFrame.iloc[i,0])) &(pd.isna(DataFrame.iloc[i,1])) & (pd.isna(DataFrame.iloc[i,2])) & (pd.isna(DataFrame.iloc[i,3]))):\n",
    "            # a comma to separate from inner quotes:\n",
    "            #DataFrame.iloc[i,0] = '\",\"' \n",
    "            #DataFrame.iloc[i,0] = '\"'\n",
    "            DataFrame.iloc[i,0] = '~~~'\n",
    "            DataFrame.iloc[i,1] = '~~~'\n",
    "            DataFrame.iloc[i,2] = '~~~'\n",
    "            DataFrame.iloc[i,3] = '~~~'\n",
    "    \n",
    "    return DataFrame"
   ]
  },
  {
   "cell_type": "code",
   "execution_count": 4,
   "metadata": {},
   "outputs": [],
   "source": [
    "df_clean = clean_df(df_raw);"
   ]
  },
  {
   "cell_type": "markdown",
   "metadata": {},
   "source": [
    "# Clean DataFrame, Return Word and Target Vectors"
   ]
  },
  {
   "cell_type": "code",
   "execution_count": 5,
   "metadata": {},
   "outputs": [],
   "source": [
    "def data_prep(df_clean):\n",
    "    import numpy as np\n",
    "    import re\n",
    "\n",
    "    df = df_clean.drop(['type','part'], axis=1)\n",
    "    df.loc[df.word == '\"', 'name'] = \"O\"\n",
    "\n",
    "    df_word = df.iloc[:,0].astype(str).values.tolist()\n",
    "    df_target = df.iloc[:,1].astype(str).values.tolist()\n",
    "\n",
    "    temp_sentences = [l.strip().split(',') for l in ','.join(df_word).strip().split('~~~')]\n",
    "    new_sentences = [[' '.join(i)] for i in temp_sentences]\n",
    "    flat_sentences = [val for sublist in new_sentences for val in sublist]\n",
    "\n",
    "    for i in range(0,len(flat_sentences)):\n",
    "        flat_sentences[i] = flat_sentences[i].strip()\n",
    "\n",
    "    flat_sentences = [flat_sentence for flat_sentence in flat_sentences if flat_sentence.strip() != '']\n",
    "\n",
    "    temp_targ = [l.strip().split(',') for l in ','.join(df_target).strip().split('~~~')]\n",
    "    new_targ = [[\",\".join(i)] for i in temp_targ]\n",
    "    flat_targ = [val for subtarg in new_targ for val in subtarg]\n",
    "\n",
    "    flat_targ = [target for target in flat_targ if target.strip() != '']\n",
    "\n",
    "    for i in range(0,len(flat_targ)):\n",
    "        flat_targ[i] = flat_targ[i].strip().split(\",\")\n",
    "        # trim off the added leading and trailing comma index\n",
    "        flat_targ[i] = flat_targ[i][1:(len(flat_targ[i])-1)]\n",
    "    \n",
    "    return flat_sentences, flat_targ"
   ]
  },
  {
   "cell_type": "code",
   "execution_count": 6,
   "metadata": {},
   "outputs": [],
   "source": [
    "flat_sentences, flat_targ = data_prep(df_clean)"
   ]
  },
  {
   "cell_type": "markdown",
   "metadata": {},
   "source": [
    "# Create Dictionaries of Words and Targets"
   ]
  },
  {
   "cell_type": "code",
   "execution_count": 7,
   "metadata": {},
   "outputs": [],
   "source": [
    "def dictionarize(sentence_vector, target_vector):\n",
    "    import string\n",
    "    from collections import Counter\n",
    "\n",
    "    word_dict = Counter()\n",
    "    table = str.maketrans('', '', \",.\")\n",
    "\n",
    "    for i in flat_sentences:\n",
    "        sentence = i.split()\n",
    "        stripped = [w.translate(table) for w in sentence]\n",
    "        for item in stripped:\n",
    "            word_dict[item]+=1\n",
    "\n",
    "    target_dict = Counter()\n",
    "    table = str.maketrans('', '', \",.\")\n",
    "\n",
    "    for target in flat_targ:\n",
    "        stripped = [w.translate(table) for w in target]\n",
    "        for item in stripped:\n",
    "            target_dict[item]+=1\n",
    "\n",
    "    return word_dict, target_dict"
   ]
  },
  {
   "cell_type": "code",
   "execution_count": 8,
   "metadata": {},
   "outputs": [],
   "source": [
    "word_dict, target_dict = dictionarize(flat_sentences, flat_targ)"
   ]
  },
  {
   "cell_type": "code",
   "execution_count": 10,
   "metadata": {},
   "outputs": [
    {
     "data": {
      "text/plain": [
       "Counter({'B-ORG': 6321,\n",
       "         'O': 170523,\n",
       "         'B-MISC': 3438,\n",
       "         'B-PER': 6600,\n",
       "         'I-PER': 4528,\n",
       "         'B-LOC': 7140,\n",
       "         'I-ORG': 3704,\n",
       "         'I-MISC': 1155,\n",
       "         'I-LOC': 1157})"
      ]
     },
     "execution_count": 10,
     "metadata": {},
     "output_type": "execute_result"
    }
   ],
   "source": [
    "target_dict"
   ]
  },
  {
   "cell_type": "markdown",
   "metadata": {},
   "source": [
    "# Pad Vectors, Convert to Integers"
   ]
  },
  {
   "cell_type": "code",
   "execution_count": 11,
   "metadata": {},
   "outputs": [],
   "source": [
    "def vec_pads(word_dict, target_dict):\n",
    "    from collections import Counter\n",
    "    \n",
    "    popular_words = dict(word_dict.most_common(19000)) # map the top 19,000 most used words out of the 22,812 used total\n",
    "    popular_targets = dict(target_dict.most_common(9)) # map all target classes\n",
    "    \n",
    "    word_map = dict(enumerate(popular_words.keys(),3))\n",
    "    target_map = dict(enumerate(popular_targets.keys(),3))\n",
    "\n",
    "    word_map[0]='<pad>'\n",
    "    word_map[1]='<start>'\n",
    "    word_map[2]='<unk>'\n",
    "\n",
    "    target_map[0]='<pad>'\n",
    "    target_map[1]='<start>'\n",
    "    target_map[2]='<unk>'\n",
    "\n",
    "    reverse_word_map = dict([(value, key) for (key, value) in word_map.items()])\n",
    "    reverse_target_map = dict([(value, key) for (key, value) in target_map.items()])\n",
    "\n",
    "    reverse_word_map['<unk>']\n",
    "    reverse_target_map['<unk>']\n",
    "\n",
    "    target_classes = Counter()\n",
    "\n",
    "    for i in flat_targ:\n",
    "        for tag in i:\n",
    "            target_classes[tag]+=1\n",
    "            \n",
    "    target_map = dict(enumerate(target_classes.keys()))\n",
    "    target_map[9]='<pad>'\n",
    "    reverse_target_map = dict([(value, key) for (key, value) in target_map.items()])\n",
    "    \n",
    "    [reverse_word_map[i] if i in reverse_word_map.keys() else 2 for i in flat_sentences[0].split()]\n",
    "\n",
    "    for i in flat_sentences[0].split():\n",
    "        if i in reverse_word_map.keys():\n",
    "            reverse_word_map[i]\n",
    "        else:\n",
    "            2\n",
    "    \n",
    "    X_data = []\n",
    "\n",
    "    for sentence in flat_sentences:\n",
    "        tmp = [reverse_word_map[i] if i in reverse_word_map.keys() else 2 for i in sentence.split()]\n",
    "        X_data.append(tmp)\n",
    "\n",
    "    y_data = []\n",
    "    \n",
    "    for target in flat_targ:\n",
    "        tmp = [reverse_target_map[i] for i in target]\n",
    "        y_data.append(tmp)\n",
    "        \n",
    "    return X_data, y_data, word_map, target_map, reverse_word_map, reverse_target_map, target_classes, popular_words, popular_targets"
   ]
  },
  {
   "cell_type": "code",
   "execution_count": 12,
   "metadata": {},
   "outputs": [],
   "source": [
    "(X_data, y_data, word_map, target_map, reverse_word_map, reverse_target_map, target_classes, popular_words, popular_targets) = vec_pads(word_dict, target_dict)"
   ]
  },
  {
   "cell_type": "code",
   "execution_count": null,
   "metadata": {},
   "outputs": [],
   "source": [
    "reverse_word_map"
   ]
  },
  {
   "cell_type": "code",
   "execution_count": 12,
   "metadata": {},
   "outputs": [
    {
     "data": {
      "text/plain": [
       "(array([2.253e+03, 5.860e+02, 7.710e+02, 7.510e+02, 6.250e+02, 9.040e+02,\n",
       "        1.056e+03, 8.940e+02, 9.100e+02, 3.240e+02, 3.540e+02, 2.930e+02,\n",
       "        2.790e+02, 2.350e+02, 2.330e+02, 1.980e+02, 4.090e+02, 2.130e+02,\n",
       "        2.170e+02, 2.100e+02, 2.210e+02, 2.230e+02, 2.120e+02, 2.020e+02,\n",
       "        4.330e+02, 1.940e+02, 2.090e+02, 1.860e+02, 1.730e+02, 1.550e+02,\n",
       "        1.350e+02, 1.240e+02, 1.020e+02, 2.070e+02, 8.000e+01, 7.200e+01,\n",
       "        6.400e+01, 5.200e+01, 4.500e+01, 4.000e+01, 2.700e+01, 3.900e+01,\n",
       "        1.300e+01, 1.500e+01, 1.000e+01, 1.100e+01, 3.000e+00, 4.000e+00,\n",
       "        5.000e+00, 4.000e+00, 2.000e+00, 2.000e+00, 2.000e+00, 0.000e+00,\n",
       "        2.000e+00, 0.000e+00, 0.000e+00, 0.000e+00, 1.000e+00, 0.000e+00,\n",
       "        0.000e+00, 0.000e+00, 0.000e+00, 0.000e+00, 0.000e+00, 0.000e+00,\n",
       "        0.000e+00, 0.000e+00, 1.000e+00, 0.000e+00, 0.000e+00, 0.000e+00,\n",
       "        0.000e+00, 0.000e+00, 0.000e+00, 0.000e+00, 0.000e+00, 0.000e+00,\n",
       "        0.000e+00, 0.000e+00, 0.000e+00, 0.000e+00, 0.000e+00, 0.000e+00,\n",
       "        0.000e+00, 0.000e+00, 0.000e+00, 0.000e+00, 0.000e+00, 0.000e+00,\n",
       "        0.000e+00, 0.000e+00, 0.000e+00, 0.000e+00, 0.000e+00, 0.000e+00,\n",
       "        0.000e+00, 0.000e+00, 0.000e+00, 1.000e+00]),\n",
       " array([  1.  ,   2.12,   3.24,   4.36,   5.48,   6.6 ,   7.72,   8.84,\n",
       "          9.96,  11.08,  12.2 ,  13.32,  14.44,  15.56,  16.68,  17.8 ,\n",
       "         18.92,  20.04,  21.16,  22.28,  23.4 ,  24.52,  25.64,  26.76,\n",
       "         27.88,  29.  ,  30.12,  31.24,  32.36,  33.48,  34.6 ,  35.72,\n",
       "         36.84,  37.96,  39.08,  40.2 ,  41.32,  42.44,  43.56,  44.68,\n",
       "         45.8 ,  46.92,  48.04,  49.16,  50.28,  51.4 ,  52.52,  53.64,\n",
       "         54.76,  55.88,  57.  ,  58.12,  59.24,  60.36,  61.48,  62.6 ,\n",
       "         63.72,  64.84,  65.96,  67.08,  68.2 ,  69.32,  70.44,  71.56,\n",
       "         72.68,  73.8 ,  74.92,  76.04,  77.16,  78.28,  79.4 ,  80.52,\n",
       "         81.64,  82.76,  83.88,  85.  ,  86.12,  87.24,  88.36,  89.48,\n",
       "         90.6 ,  91.72,  92.84,  93.96,  95.08,  96.2 ,  97.32,  98.44,\n",
       "         99.56, 100.68, 101.8 , 102.92, 104.04, 105.16, 106.28, 107.4 ,\n",
       "        108.52, 109.64, 110.76, 111.88, 113.  ]),\n",
       " <a list of 100 Patch objects>)"
      ]
     },
     "execution_count": 12,
     "metadata": {},
     "output_type": "execute_result"
    },
    {
     "data": {
      "image/png": "[encoded data removed]",
      "text/plain": [
       "<Figure size 432x288 with 1 Axes>"
      ]
     },
     "metadata": {
      "needs_background": "light"
     },
     "output_type": "display_data"
    }
   ],
   "source": [
    "import matplotlib.pyplot as plt\n",
    "\n",
    "lengths=[]\n",
    "\n",
    "for i in y_data:\n",
    "    lengths.append(len(i))\n",
    "\n",
    "%matplotlib inline\n",
    "plt.hist(lengths,bins=100)"
   ]
  },
  {
   "cell_type": "code",
   "execution_count": null,
   "metadata": {},
   "outputs": [],
   "source": [
    "from tensorflow.keras.preprocessing import sequence\n",
    "import numpy as np\n",
    "\n",
    "# 90th percentile of words\n",
    "max_sentence_length = int(np.percentile(lengths, 90));\n",
    "\n",
    "X = sequence.pad_sequences(X_data, maxlen=max_sentence_length);\n",
    "y = sequence.pad_sequences(y_data, maxlen=max_sentence_length, value = 9);\n",
    "print(\"99th Percentile Sentence Word Count (Maximum):\",max_sentence_length, \"words\")"
   ]
  },
  {
   "cell_type": "markdown",
   "metadata": {},
   "source": [
    "# LSTM Model (for testing functions)"
   ]
  },
  {
   "cell_type": "code",
   "execution_count": 14,
   "metadata": {},
   "outputs": [
    {
     "name": "stdout",
     "output_type": "stream",
     "text": [
      "WARNING:tensorflow:From /home/pablo/anaconda3/envs/tf-gpu/lib/python3.7/site-packages/tensorflow/python/ops/resource_variable_ops.py:435: colocate_with (from tensorflow.python.framework.ops) is deprecated and will be removed in a future version.\n",
      "Instructions for updating:\n",
      "Colocations handled automatically by placer.\n",
      "WARNING:tensorflow:From /home/pablo/anaconda3/envs/tf-gpu/lib/python3.7/site-packages/tensorflow/python/keras/backend.py:4010: calling dropout (from tensorflow.python.ops.nn_ops) with keep_prob is deprecated and will be removed in a future version.\n",
      "Instructions for updating:\n",
      "Please use `rate` instead of `keep_prob`. Rate should be set to `rate = 1 - keep_prob`.\n"
     ]
    }
   ],
   "source": [
    "from tensorflow.keras import Sequential, Input\n",
    "from tensorflow.keras.layers import add\n",
    "from tensorflow.keras.layers import LSTM, Embedding, Dense, TimeDistributed, Dropout, Bidirectional, Lambda\n",
    "from tensorflow.keras.layers import SimpleRNN\n",
    "\n",
    "embedding_vector_length = 100 # word embeddings should be between 100 and 300\n",
    "vocabulary_size = len(word_map)\n",
    "n_tags = len(target_map)\n",
    "\n",
    "model = Sequential()\n",
    "model.add(Embedding(vocabulary_size, embedding_vector_length, input_length=max_sentence_length)) # training the word vectors\n",
    "model.add(LSTM(units=500, return_sequences=True, recurrent_dropout=0.2, dropout=0.2))\n",
    "model.add(TimeDistributed(Dense(n_tags+1, activation=\"softmax\")))\n",
    "model.compile(optimizer=\"adam\", loss=\"sparse_categorical_crossentropy\", metrics=[\"accuracy\"])"
   ]
  },
  {
   "cell_type": "code",
   "execution_count": 15,
   "metadata": {},
   "outputs": [
    {
     "name": "stdout",
     "output_type": "stream",
     "text": [
      "_________________________________________________________________\n",
      "Layer (type)                 Output Shape              Param #   \n",
      "=================================================================\n",
      "embedding (Embedding)        (None, 32, 100)           1900300   \n",
      "_________________________________________________________________\n",
      "lstm (LSTM)                  (None, 32, 500)           1202000   \n",
      "_________________________________________________________________\n",
      "time_distributed (TimeDistri (None, 32, 11)            5511      \n",
      "=================================================================\n",
      "Total params: 3,107,811\n",
      "Trainable params: 3,107,811\n",
      "Non-trainable params: 0\n",
      "_________________________________________________________________\n"
     ]
    }
   ],
   "source": [
    "model.summary()"
   ]
  },
  {
   "cell_type": "code",
   "execution_count": 16,
   "metadata": {},
   "outputs": [],
   "source": [
    "train_size = int(round((len(X_data)*0.7),0)) # 70/30 split"
   ]
  },
  {
   "cell_type": "code",
   "execution_count": 17,
   "metadata": {},
   "outputs": [
    {
     "name": "stdout",
     "output_type": "stream",
     "text": [
      "Train on 10490 samples, validate on 4496 samples\n",
      "Epoch 1/15\n",
      "10490/10490 [==============================] - 3s 326us/sample - loss: 1.1659 - acc: 0.7097 - val_loss: 0.5854 - val_acc: 0.8745\n",
      "Epoch 2/15\n",
      "10490/10490 [==============================] - 3s 262us/sample - loss: 0.4600 - acc: 0.9014 - val_loss: 0.4386 - val_acc: 0.9131\n",
      "Epoch 3/15\n",
      "10490/10490 [==============================] - 3s 262us/sample - loss: 0.3733 - acc: 0.9211 - val_loss: 0.3943 - val_acc: 0.9193\n",
      "Epoch 4/15\n",
      "10490/10490 [==============================] - 3s 264us/sample - loss: 0.3359 - acc: 0.9236 - val_loss: 0.3604 - val_acc: 0.9199\n",
      "Epoch 5/15\n",
      "10490/10490 [==============================] - 3s 262us/sample - loss: 0.2920 - acc: 0.9265 - val_loss: 0.3278 - val_acc: 0.9238\n",
      "Epoch 6/15\n",
      "10490/10490 [==============================] - 3s 267us/sample - loss: 0.2540 - acc: 0.9370 - val_loss: 0.3105 - val_acc: 0.9266\n",
      "Epoch 7/15\n",
      "10490/10490 [==============================] - 3s 265us/sample - loss: 0.2305 - acc: 0.9433 - val_loss: 0.3036 - val_acc: 0.9272\n",
      "Epoch 8/15\n",
      "10490/10490 [==============================] - 3s 266us/sample - loss: 0.2135 - acc: 0.9481 - val_loss: 0.2986 - val_acc: 0.9286\n",
      "Epoch 9/15\n",
      "10490/10490 [==============================] - 3s 262us/sample - loss: 0.1999 - acc: 0.9518 - val_loss: 0.2954 - val_acc: 0.9315\n",
      "Epoch 10/15\n",
      "10490/10490 [==============================] - 3s 262us/sample - loss: 0.1883 - acc: 0.9556 - val_loss: 0.2931 - val_acc: 0.9341\n",
      "Epoch 11/15\n",
      "10490/10490 [==============================] - 3s 263us/sample - loss: 0.1773 - acc: 0.9586 - val_loss: 0.2891 - val_acc: 0.9351\n",
      "Epoch 12/15\n",
      "10490/10490 [==============================] - 3s 262us/sample - loss: 0.1681 - acc: 0.9610 - val_loss: 0.2932 - val_acc: 0.9361\n",
      "Epoch 13/15\n",
      "10490/10490 [==============================] - 3s 264us/sample - loss: 0.1612 - acc: 0.9630 - val_loss: 0.2893 - val_acc: 0.9353\n",
      "Epoch 14/15\n",
      "10490/10490 [==============================] - 3s 266us/sample - loss: 0.1548 - acc: 0.9642 - val_loss: 0.2902 - val_acc: 0.9363\n",
      "Epoch 15/15\n",
      "10490/10490 [==============================] - 3s 266us/sample - loss: 0.1494 - acc: 0.9656 - val_loss: 0.2951 - val_acc: 0.9367\n"
     ]
    }
   ],
   "source": [
    "import numpy as np\n",
    "batch_size=300\n",
    "X_train, X_val = X[:train_size], X[train_size:]\n",
    "y_train, y_val = y[:train_size], y[train_size:]\n",
    "\n",
    "y_train = y_train.reshape(y_train.shape[0], y_train.shape[1], 1)\n",
    "y_val = y_val.reshape(y_val.shape[0], y_val.shape[1], 1)\n",
    "historyA = model.fit(np.array(X_train), np.array(y_train), validation_data=(np.array(X_val), np.array(y_val)), batch_size=batch_size, epochs=15, verbose=1)"
   ]
  },
  {
   "cell_type": "code",
   "execution_count": 18,
   "metadata": {},
   "outputs": [
    {
     "name": "stdout",
     "output_type": "stream",
     "text": [
      "Mean Accuracy: 93.67%\n"
     ]
    }
   ],
   "source": [
    "scores = model.evaluate(np.array(X_val), np.array(y_val), verbose=0)\n",
    "print(\"Mean Accuracy: %.2f%%\" % (scores[1]*100))"
   ]
  },
  {
   "cell_type": "code",
   "execution_count": 19,
   "metadata": {},
   "outputs": [
    {
     "data": {
      "image/png": "[encoded data removed]",
      "text/plain": [
       "<Figure size 432x288 with 1 Axes>"
      ]
     },
     "metadata": {
      "needs_background": "light"
     },
     "output_type": "display_data"
    }
   ],
   "source": [
    "plt.plot(historyA.history['acc'], label='SimpleRNN Model Accuracy (training data)')\n",
    "plt.plot(historyA.history['val_acc'], label='SimpleRNN Model Validation Accuracy (validation data)')\n",
    "plt.title('LSTM Model Accuracy')\n",
    "plt.ylabel('Accuracy value')\n",
    "plt.xlabel('Epoch')\n",
    "plt.legend(loc=\"upper left\")\n",
    "plt.show()"
   ]
  },
  {
   "cell_type": "code",
   "execution_count": 20,
   "metadata": {},
   "outputs": [
    {
     "data": {
      "image/png": "[encoded data removed]",
      "text/plain": [
       "<Figure size 432x288 with 1 Axes>"
      ]
     },
     "metadata": {
      "needs_background": "light"
     },
     "output_type": "display_data"
    }
   ],
   "source": [
    "plt.plot(historyA.history['loss'], label='SimpleRNN Model Loss (training data)')\n",
    "plt.plot(historyA.history['val_loss'], label='SimpleRNN Model Validation Loss (validation data)')\n",
    "plt.title('LSTM Model Loss')\n",
    "plt.ylabel('Loss value')\n",
    "plt.xlabel('Epoch')\n",
    "plt.legend(loc=\"upper left\")\n",
    "plt.show()"
   ]
  },
  {
   "cell_type": "code",
   "execution_count": 21,
   "metadata": {},
   "outputs": [],
   "source": [
    "preds = model.predict_classes(X_val)\n",
    "actual = y_val.reshape(len(y_val), max_sentence_length)"
   ]
  },
  {
   "cell_type": "code",
   "execution_count": 22,
   "metadata": {},
   "outputs": [],
   "source": [
    "flat_actuals = []\n",
    "flat_preds = []\n",
    "\n",
    "for i in range(len(actual)): #Traversing through the main list\n",
    "  for j in range (len(actual[i])): #Traversing through each sublist\n",
    "    flat_actuals.append(actual[i][j]) #Appending elements into our flat_list\n",
    "\n",
    "for n in range(len(preds)): #Traversing through the main list\n",
    "  for m in range (len(preds[n])): #Traversing through each sublist\n",
    "    flat_preds.append(preds[n][m]) #Appending elements into our flat_list"
   ]
  },
  {
   "cell_type": "code",
   "execution_count": 23,
   "metadata": {},
   "outputs": [
    {
     "name": "stdout",
     "output_type": "stream",
     "text": [
      "              precision    recall  f1-score   support\n",
      "\n",
      "           0       0.57      0.40      0.47      1679\n",
      "           1       0.91      0.95      0.93     53914\n",
      "           2       0.59      0.30      0.39      1059\n",
      "           3       0.57      0.30      0.39      1898\n",
      "           4       0.58      0.33      0.42      1287\n",
      "           5       0.66      0.50      0.57      2196\n",
      "           6       0.54      0.37      0.44      1123\n",
      "           7       0.75      0.33      0.46       357\n",
      "           8       0.60      0.25      0.35       407\n",
      "           9       0.98      1.00      0.99     79952\n",
      "          10       0.00      0.00      0.00         0\n",
      "\n",
      "    accuracy                           0.94    143872\n",
      "   macro avg       0.61      0.43      0.49    143872\n",
      "weighted avg       0.93      0.94      0.93    143872\n",
      "\n"
     ]
    },
    {
     "name": "stderr",
     "output_type": "stream",
     "text": [
      "/home/pablo/anaconda3/envs/tf-gpu/lib/python3.7/site-packages/sklearn/metrics/_classification.py:1221: UndefinedMetricWarning: Recall and F-score are ill-defined and being set to 0.0 in labels with no true samples. Use `zero_division` parameter to control this behavior.\n",
      "  _warn_prf(average, modifier, msg_start, len(result))\n"
     ]
    }
   ],
   "source": [
    "from sklearn.metrics import classification_report\n",
    "\n",
    "print(classification_report(flat_actuals, flat_preds));"
   ]
  },
  {
   "cell_type": "markdown",
   "metadata": {},
   "source": [
    "### Including Named Entity 'O', Excluding Padding:"
   ]
  },
  {
   "cell_type": "code",
   "execution_count": 24,
   "metadata": {},
   "outputs": [],
   "source": [
    "count = 0\n",
    "total = 0\n",
    "pred = []\n",
    "actual = []\n",
    "\n",
    "for prediction in range(preds.shape[0]):\n",
    "    for i in range(max_sentence_length):\n",
    "        if y_val[prediction][i] == 9:\n",
    "            pass\n",
    "        else: # if not a padding data point\n",
    "            if y_val[prediction][i] == preds[prediction][i]:\n",
    "                count = count+1 # count the true positives\n",
    "            total = total + 1\n",
    "            pred.append(preds[prediction][i])\n",
    "            actual.append(y_val[prediction][i])"
   ]
  },
  {
   "cell_type": "markdown",
   "metadata": {},
   "source": [
    "### Accuracy (Correct Predictions / All Predictions) where Named Entity 'O' Included, Padding Excluded:"
   ]
  },
  {
   "cell_type": "code",
   "execution_count": 25,
   "metadata": {},
   "outputs": [
    {
     "name": "stdout",
     "output_type": "stream",
     "text": [
      "Accuracy: 86.04%\n"
     ]
    }
   ],
   "source": [
    "print(\"Accuracy: %.2f%%\" % (100*(count/total)))"
   ]
  },
  {
   "cell_type": "code",
   "execution_count": 26,
   "metadata": {},
   "outputs": [],
   "source": [
    "import numpy as np\n",
    "import matplotlib.pyplot as plt\n",
    "#from sklearn.metrics import confusion_matrix\n",
    "from sklearn.metrics import multilabel_confusion_matrix\n",
    "\n",
    "def plot_confusion_matrix(cm, title='Confusion matrix', cmap=plt.cm.Blues):\n",
    "    plt.imshow(cm, interpolation='nearest', cmap=cmap)\n",
    "    plt.title(title)\n",
    "    plt.colorbar()\n",
    "    tick_marks = np.arange(len(target_map.keys()))\n",
    "    plt.xticks(tick_marks, reverse_target_map.keys(), rotation=45)\n",
    "    plt.yticks(tick_marks, reverse_target_map.keys())\n",
    "    plt.tight_layout()\n",
    "    plt.ylabel('True label')\n",
    "    plt.xlabel('Predicted label')"
   ]
  },
  {
   "cell_type": "code",
   "execution_count": 27,
   "metadata": {},
   "outputs": [],
   "source": [
    "my_list = map(lambda x: x[0], actual)\n",
    "actuals = pd.Series(my_list)\n",
    "\n",
    "d = {'Preds': pd.Series(pred), 'Actuals': pd.Series(actuals)}\n",
    "df = pd.DataFrame(d)\n",
    "\n",
    "df = df[df['Actuals'] != 9]\n",
    "df = df[df['Actuals'] != 1]\n",
    "df = df[df['Preds'] != 9]\n",
    "df = df[df['Preds'] != 1]"
   ]
  },
  {
   "cell_type": "code",
   "execution_count": 28,
   "metadata": {},
   "outputs": [],
   "source": [
    "flat_y_val = df['Actuals'].tolist()\n",
    "flat_preds = df['Preds'].tolist()"
   ]
  },
  {
   "cell_type": "markdown",
   "metadata": {},
   "source": [
    "Confusion Matrix - Non-Normalized:"
   ]
  },
  {
   "cell_type": "code",
   "execution_count": 29,
   "metadata": {},
   "outputs": [
    {
     "name": "stdout",
     "output_type": "stream",
     "text": [
      "Confusion matrix, without normalization\n",
      "[[ 668   26   18   20   73   28    0    5    0]\n",
      " [  71  314    5    6   20   10    9    1    0]\n",
      " [  41    7  566   57   20    9    0    1    3]\n",
      " [  13    2  140  427    2   15    0    1    3]\n",
      " [  70   19    7   14 1091    4    1    0    1]\n",
      " [  86   14   10   14   25  410    7   20    0]\n",
      " [   7   23    1    1    7   28  117    0    1]\n",
      " [  22    3    3    4   55   75    4  101    0]\n",
      " [   0    0    0    0    0    0    0    0    0]]\n"
     ]
    },
    {
     "data": {
      "image/png": "[encoded data removed]",
      "text/plain": [
       "<Figure size 1440x720 with 2 Axes>"
      ]
     },
     "metadata": {
      "needs_background": "light"
     },
     "output_type": "display_data"
    }
   ],
   "source": [
    "from sklearn.metrics import confusion_matrix\n",
    "# Compute confusion matrix\n",
    "#cm = confusion_matrix(actual, pred)\n",
    "cm = confusion_matrix(flat_y_val, flat_preds)\n",
    "np.set_printoptions(precision=2)\n",
    "print('Confusion matrix, without normalization')\n",
    "print(cm)\n",
    "plt.figure(figsize=(20,10))\n",
    "plot_confusion_matrix(cm)"
   ]
  },
  {
   "cell_type": "markdown",
   "metadata": {},
   "source": [
    "Confusion Matrix - Normalized:"
   ]
  },
  {
   "cell_type": "code",
   "execution_count": 30,
   "metadata": {},
   "outputs": [
    {
     "name": "stdout",
     "output_type": "stream",
     "text": [
      "Normalized confusion matrix\n",
      "[[7.97e-01 3.10e-02 2.15e-02 2.39e-02 8.71e-02 3.34e-02 0.00e+00 5.97e-03\n",
      "  0.00e+00]\n",
      " [1.63e-01 7.20e-01 1.15e-02 1.38e-02 4.59e-02 2.29e-02 2.06e-02 2.29e-03\n",
      "  0.00e+00]\n",
      " [5.82e-02 9.94e-03 8.04e-01 8.10e-02 2.84e-02 1.28e-02 0.00e+00 1.42e-03\n",
      "  4.26e-03]\n",
      " [2.16e-02 3.32e-03 2.32e-01 7.08e-01 3.32e-03 2.49e-02 0.00e+00 1.66e-03\n",
      "  4.98e-03]\n",
      " [5.80e-02 1.57e-02 5.80e-03 1.16e-02 9.04e-01 3.31e-03 8.29e-04 0.00e+00\n",
      "  8.29e-04]\n",
      " [1.47e-01 2.39e-02 1.71e-02 2.39e-02 4.27e-02 7.00e-01 1.19e-02 3.41e-02\n",
      "  0.00e+00]\n",
      " [3.78e-02 1.24e-01 5.41e-03 5.41e-03 3.78e-02 1.51e-01 6.32e-01 0.00e+00\n",
      "  5.41e-03]\n",
      " [8.24e-02 1.12e-02 1.12e-02 1.50e-02 2.06e-01 2.81e-01 1.50e-02 3.78e-01\n",
      "  0.00e+00]\n",
      " [     nan      nan      nan      nan      nan      nan      nan      nan\n",
      "       nan]]\n"
     ]
    },
    {
     "name": "stderr",
     "output_type": "stream",
     "text": [
      "/home/pablo/anaconda3/envs/tf-gpu/lib/python3.7/site-packages/ipykernel_launcher.py:2: RuntimeWarning: invalid value encountered in true_divide\n",
      "  \n"
     ]
    },
    {
     "data": {
      "image/png": "[encoded data removed]",
      "text/plain": [
       "<Figure size 1440x720 with 2 Axes>"
      ]
     },
     "metadata": {
      "needs_background": "light"
     },
     "output_type": "display_data"
    }
   ],
   "source": [
    "# Normalize the confusion matrix by row (i.e by the number of samples in each class)\n",
    "cm_normalized = cm.astype('float') / cm.sum(axis=1)[:, np.newaxis]\n",
    "print('Normalized confusion matrix')\n",
    "print(cm_normalized)\n",
    "plt.figure(figsize=(20,10))\n",
    "plot_confusion_matrix(cm_normalized, title='Normalized confusion matrix')\n",
    "\n",
    "plt.show();"
   ]
  },
  {
   "cell_type": "markdown",
   "metadata": {},
   "source": [
    "### Excluding Named Entity 'O' and Padding:"
   ]
  },
  {
   "cell_type": "code",
   "execution_count": 31,
   "metadata": {},
   "outputs": [],
   "source": [
    "count = 0\n",
    "total = 0\n",
    "pred = []\n",
    "actual = []\n",
    "\n",
    "for prediction in range(preds.shape[0]):\n",
    "    for i in range(max_sentence_length):\n",
    "        if (y_val[prediction][i] == 9):\n",
    "            pass\n",
    "        if (y_val[prediction][i] == 1):\n",
    "            pass\n",
    "        else: # if not a padding data point\n",
    "            if y_val[prediction][i] == preds[prediction][i]:\n",
    "                count = count+1 # count the true positives\n",
    "            total = total + 1\n",
    "            pred.append(preds[prediction][i])\n",
    "            actual.append(y_val[prediction][i])"
   ]
  },
  {
   "cell_type": "markdown",
   "metadata": {},
   "source": [
    "### Accuracy (Correct Predictions / All Predictions) where Named Entity 'O', Padding Excluded:"
   ]
  },
  {
   "cell_type": "code",
   "execution_count": 32,
   "metadata": {},
   "outputs": [
    {
     "name": "stdout",
     "output_type": "stream",
     "text": [
      "Accuracy: 92.77%\n"
     ]
    }
   ],
   "source": [
    "print(\"Accuracy: %.2f%%\" % (100*(count/total)))"
   ]
  },
  {
   "cell_type": "markdown",
   "metadata": {},
   "source": [
    "# Bidirectional LSTM"
   ]
  },
  {
   "cell_type": "code",
   "execution_count": null,
   "metadata": {},
   "outputs": [
    {
     "name": "stdout",
     "output_type": "stream",
     "text": [
      "Train on 10490 samples, validate on 4496 samples\n",
      "Epoch 1/15\n",
      "10490/10490 [==============================] - 6s 595us/sample - loss: 0.8382 - acc: 0.7954 - val_loss: 0.4559 - val_acc: 0.8927\n",
      "Epoch 2/15\n",
      "10490/10490 [==============================] - 5s 486us/sample - loss: 0.3712 - acc: 0.9165 - val_loss: 0.3753 - val_acc: 0.9148\n",
      "Epoch 3/15\n",
      "10490/10490 [==============================] - 5s 485us/sample - loss: 0.3286 - acc: 0.9244 - val_loss: 0.3550 - val_acc: 0.9184\n",
      "Epoch 4/15\n",
      "10490/10490 [==============================] - 5s 486us/sample - loss: 0.3064 - acc: 0.9267 - val_loss: 0.3417 - val_acc: 0.9200\n",
      "Epoch 5/15\n",
      "10490/10490 [==============================] - 5s 488us/sample - loss: 0.2814 - acc: 0.9278 - val_loss: 0.3215 - val_acc: 0.9213\n",
      "Epoch 6/15\n",
      "10490/10490 [==============================] - 5s 490us/sample - loss: 0.2491 - acc: 0.9302 - val_loss: 0.2994 - val_acc: 0.9255\n",
      "Epoch 7/15\n",
      "10490/10490 [==============================] - 5s 488us/sample - loss: 0.2155 - acc: 0.9383 - val_loss: 0.2863 - val_acc: 0.9294\n",
      "Epoch 8/15\n",
      "10490/10490 [==============================] - 5s 488us/sample - loss: 0.1869 - acc: 0.9460 - val_loss: 0.2701 - val_acc: 0.9328\n",
      "Epoch 9/15\n",
      "10490/10490 [==============================] - 5s 487us/sample - loss: 0.1626 - acc: 0.9535 - val_loss: 0.2659 - val_acc: 0.9342\n",
      "Epoch 10/15\n",
      "  600/10490 [>.............................] - ETA: 4s - loss: 0.1500 - acc: 0.9576"
     ]
    }
   ],
   "source": [
    "from tensorflow.keras import Sequential, Input\n",
    "from tensorflow.keras.layers import add\n",
    "from tensorflow.keras.layers import LSTM, Embedding, Dense, TimeDistributed, Dropout, Bidirectional, Lambda\n",
    "from tensorflow.keras.layers import SimpleRNN\n",
    "\n",
    "embedding_vector_length = 100 # word embeddings should be between 100 and 300\n",
    "vocabulary_size = len(word_map)\n",
    "n_tags = len(target_map)\n",
    "\n",
    "model2 = Sequential()\n",
    "model2.add(Embedding(vocabulary_size, embedding_vector_length, input_length=max_sentence_length)) # training the word vectors\n",
    "model2.add(Bidirectional(LSTM(units=500, return_sequences=True, recurrent_dropout=0.2, dropout=0.2)))\n",
    "model2.add(TimeDistributed(Dense(n_tags+1, activation=\"softmax\")))\n",
    "model2.compile(optimizer=\"adam\", loss=\"sparse_categorical_crossentropy\", metrics=[\"accuracy\"])\n",
    "historyB = model2.fit(np.array(X_train), np.array(y_train), validation_data=(np.array(X_val), np.array(y_val)), batch_size=batch_size, epochs=15, verbose=1)"
   ]
  },
  {
   "cell_type": "code",
   "execution_count": null,
   "metadata": {},
   "outputs": [],
   "source": [
    "scores = model2.evaluate(np.array(X_val), np.array(y_val), verbose=0)\n",
    "print(\"Mean Accuracy: %.2f%%\" % (scores[1]*100))"
   ]
  },
  {
   "cell_type": "code",
   "execution_count": null,
   "metadata": {},
   "outputs": [],
   "source": [
    "plt.plot(historyB.history['acc'], label='SimpleRNN Model Accuracy (training data)')\n",
    "plt.plot(historyB.history['val_acc'], label='SimpleRNN Model Validation Accuracy (training data)')\n",
    "plt.title('Bidirectional LSTM Model Accuracy')\n",
    "plt.ylabel('Accuracy value')\n",
    "plt.xlabel('Epoch')\n",
    "plt.legend(loc=\"upper left\")\n",
    "plt.show()"
   ]
  },
  {
   "cell_type": "code",
   "execution_count": null,
   "metadata": {},
   "outputs": [],
   "source": [
    "plt.plot(historyB.history['loss'], label='SimpleRNN Model Loss (training data)')\n",
    "plt.plot(historyB.history['val_loss'], label='SimpleRNN Model Validation Loss (training data)')\n",
    "plt.title('Bidirectional LSTM Model Loss')\n",
    "plt.ylabel('Loss value')\n",
    "plt.xlabel('Epoch')\n",
    "plt.legend(loc=\"upper left\")\n",
    "plt.show()"
   ]
  },
  {
   "cell_type": "code",
   "execution_count": null,
   "metadata": {},
   "outputs": [],
   "source": [
    "preds_LSTM = model2.predict_classes(X_val)\n",
    "actual = y_val.reshape(len(y_val), max_sentence_length)"
   ]
  },
  {
   "cell_type": "code",
   "execution_count": null,
   "metadata": {},
   "outputs": [],
   "source": [
    "flat_actuals = []\n",
    "flat_preds_LSTM = []\n",
    "\n",
    "for i in range(len(actual)): #Traversing through the main list\n",
    "  for j in range (len(actual[i])): #Traversing through each sublist\n",
    "    flat_actuals.append(actual[i][j]) #Appending elements into our flat_list\n",
    "\n",
    "for n in range(len(preds_LSTM)): #Traversing through the main list\n",
    "  for m in range (len(preds_LSTM[n])): #Traversing through each sublist\n",
    "    flat_preds_LSTM.append(preds_LSTM[n][m]) #Appending elements into our flat_list"
   ]
  },
  {
   "cell_type": "code",
   "execution_count": null,
   "metadata": {},
   "outputs": [],
   "source": [
    "from sklearn.metrics import classification_report\n",
    "\n",
    "print(classification_report(flat_actuals, flat_preds_LSTM));"
   ]
  },
  {
   "cell_type": "code",
   "execution_count": null,
   "metadata": {},
   "outputs": [],
   "source": [
    "count = 0\n",
    "total = 0\n",
    "pred = []\n",
    "actual = []\n",
    "\n",
    "for prediction in range(preds_LSTM.shape[0]):\n",
    "    for i in range(max_sentence_length):\n",
    "        if y_val[prediction][i] == 9:\n",
    "            pass\n",
    "        else: # if not a padding data point\n",
    "            if y_val[prediction][i] == preds_LSTM[prediction][i]:\n",
    "                count = count+1 # count the true positives\n",
    "            total = total + 1\n",
    "            pred.append(preds_LSTM[prediction][i])\n",
    "            actual.append(y_val[prediction][i])"
   ]
  },
  {
   "cell_type": "markdown",
   "metadata": {},
   "source": [
    "### Accuracy (Correct Predictions / All Predictions) where Named Entity 'O' Included, Padding Excluded:"
   ]
  },
  {
   "cell_type": "code",
   "execution_count": null,
   "metadata": {},
   "outputs": [],
   "source": [
    "print(\"Accuracy: %.2f%%\" % (100*(count/total)))"
   ]
  },
  {
   "cell_type": "code",
   "execution_count": null,
   "metadata": {},
   "outputs": [],
   "source": [
    "import numpy as np\n",
    "import matplotlib.pyplot as plt\n",
    "#from sklearn.metrics import confusion_matrix\n",
    "from sklearn.metrics import multilabel_confusion_matrix\n",
    "\n",
    "def plot_confusion_matrix(cm, title='Confusion matrix', cmap=plt.cm.Blues):\n",
    "    plt.imshow(cm, interpolation='nearest', cmap=cmap)\n",
    "    plt.title(title)\n",
    "    plt.colorbar()\n",
    "    tick_marks = np.arange(len(target_map.keys()))\n",
    "    plt.xticks(tick_marks, reverse_target_map.keys(), rotation=45)\n",
    "    plt.yticks(tick_marks, reverse_target_map.keys())\n",
    "    plt.tight_layout()\n",
    "    plt.ylabel('True label')\n",
    "    plt.xlabel('Predicted label')"
   ]
  },
  {
   "cell_type": "code",
   "execution_count": null,
   "metadata": {},
   "outputs": [],
   "source": [
    "my_list = map(lambda x: x[0], actual)\n",
    "actuals = pd.Series(my_list)\n",
    "\n",
    "d = {'Preds': pd.Series(pred), 'Actuals': pd.Series(actuals)}\n",
    "df = pd.DataFrame(d)\n",
    "\n",
    "df = df[df['Actuals'] != 9]\n",
    "df = df[df['Actuals'] != 1]\n",
    "df = df[df['Preds'] != 9]\n",
    "df = df[df['Preds'] != 1]"
   ]
  },
  {
   "cell_type": "code",
   "execution_count": null,
   "metadata": {},
   "outputs": [],
   "source": [
    "flat_y_val = df['Actuals'].tolist()\n",
    "flat_preds = df['Preds'].tolist()"
   ]
  },
  {
   "cell_type": "markdown",
   "metadata": {},
   "source": [
    "Confusion Matrix - Non-Normalized:"
   ]
  },
  {
   "cell_type": "code",
   "execution_count": null,
   "metadata": {},
   "outputs": [],
   "source": [
    "from sklearn.metrics import confusion_matrix\n",
    "# Compute confusion matrix\n",
    "#cm = confusion_matrix(actual, pred)\n",
    "cm = confusion_matrix(flat_y_val, flat_preds)\n",
    "np.set_printoptions(precision=2)\n",
    "print('Confusion matrix, without normalization')\n",
    "print(cm)\n",
    "plt.figure(figsize=(20,10))\n",
    "plot_confusion_matrix(cm)"
   ]
  },
  {
   "cell_type": "code",
   "execution_count": null,
   "metadata": {},
   "outputs": [],
   "source": [
    "# Normalize the confusion matrix by row (i.e by the number of samples in each class)\n",
    "cm_normalized = cm.astype('float') / cm.sum(axis=1)[:, np.newaxis]\n",
    "print('Normalized confusion matrix')\n",
    "print(cm_normalized)\n",
    "plt.figure(figsize=(20,10))\n",
    "plot_confusion_matrix(cm_normalized, title='Normalized confusion matrix')\n",
    "\n",
    "plt.show();"
   ]
  },
  {
   "cell_type": "markdown",
   "metadata": {},
   "source": [
    "### Excluding Named Entity 'O' and Padding:"
   ]
  },
  {
   "cell_type": "markdown",
   "metadata": {},
   "source": [
    "### Accuracy (Correct Predictions / All Predictions) where Named Entity 'O', Padding Excluded:"
   ]
  },
  {
   "cell_type": "code",
   "execution_count": null,
   "metadata": {},
   "outputs": [],
   "source": [
    "count = 0\n",
    "total = 0\n",
    "pred = []\n",
    "actual = []\n",
    "\n",
    "for prediction in range(preds_LSTM.shape[0]):\n",
    "    for i in range(max_sentence_length):\n",
    "        if (y_val[prediction][i] == 9):\n",
    "            pass\n",
    "        if (y_val[prediction][i] == 1):\n",
    "            pass\n",
    "        else: # if not a padding data point\n",
    "            if y_val[prediction][i] == preds_LSTM[prediction][i]:\n",
    "                count = count+1 # count the true positives\n",
    "            total = total + 1\n",
    "            pred.append(preds_LSTM[prediction][i])\n",
    "            actual.append(y_val[prediction][i])"
   ]
  },
  {
   "cell_type": "code",
   "execution_count": null,
   "metadata": {},
   "outputs": [],
   "source": [
    "print(\"Accuracy: %.2f%%\" % (100*(count/total)))"
   ]
  },
  {
   "cell_type": "markdown",
   "metadata": {},
   "source": [
    "# Final Assessment: LSTM vs. Bidirectional LSTM\n",
    "Overall, the Bidirectional LSTM outperformed the LSTM both with and without the Named Entity 'O' present in the data. However, without 'O', the LSTM slightly outperformed the Bidirection LSTM, in terms of accuracy. Nonetheless, the overall (average between with and without 'O') accuracy was slightly higher for the Bidirectional LSTM.\n",
    "\n",
    "Overall, the LSTM and the Bidirectional LSTM both performed very similarly. With more data, perhaps there would be greater separation between the results of the two. With respect to confusion matrix report values, there were only very minor differences across each metric, by target class. The most notable difference for precision is on class 8 (I-ORG); the Bidirectional LSTM precision for this class was 0.69 and only 0.33 for the unidirectional LSTM. There were no noteable discernments when comparing recall between the two networks.\n",
    "\n",
    "Regarding accuracy, the Bidirectional LSTM again very slightly outperformed the unidirectional LSTM. The mean accuracy for the Bidirectional LSTM was 94.09% whereas the unidirectional LSTM scored a mean accuracy of 93.40%. One notable exception is that when target class 'O' was removed, the Bidirectional LSTM - across several repeats - scored slightly less (~0.39% less) than the unidirectional LSTM. Likely, the Bidirectional's observance of the imbalance produced a minor overfit to that target class. Balancing the data would most likely resolve this issue, which may be of consideration going forward as more data introduces greater separation between the models; where the Bidirectional LSTM seemed to overall perform better, balancing may be of greater concern - since it is bidirectional - as a higher volume of data is introduced."
   ]
  }
 ],
 "metadata": {
  "kernelspec": {
   "display_name": "Python 3",
   "language": "python",
   "name": "python3"
  },
  "language_info": {
   "codemirror_mode": {
    "name": "ipython",
    "version": 3
   },
   "file_extension": ".py",
   "mimetype": "text/x-python",
   "name": "python",
   "nbconvert_exporter": "python",
   "pygments_lexer": "ipython3",
   "version": "3.7.7"
  }
 },
 "nbformat": 4,
 "nbformat_minor": 4
}

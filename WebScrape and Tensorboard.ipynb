{
 "cells": [
  {
   "cell_type": "markdown",
   "metadata": {},
   "source": [
    "### Paul Adams\n",
    "### DS7337 Natural Language Processing\n",
    "### Homework Unit 1\n",
    "### 10 May 2020"
   ]
  },
  {
   "cell_type": "code",
   "execution_count": 6,
   "metadata": {},
   "outputs": [
    {
     "name": "stdout",
     "output_type": "stream",
     "text": [
      "2.0.0\n"
     ]
    }
   ],
   "source": [
    "from tensorflow.keras.regularizers import l2\n",
    "from tensorflow.keras import layers\n",
    "import matplotlib.pyplot as plt\n",
    "from sklearn import datasets\n",
    "import tensorflow as tf\n",
    "import pandas as pd\n",
    "import numpy as np\n",
    "\n",
    "print(tf.__version__)"
   ]
  },
  {
   "cell_type": "code",
   "execution_count": 378,
   "metadata": {},
   "outputs": [],
   "source": [
    "tf.random.set_seed(13)"
   ]
  },
  {
   "cell_type": "markdown",
   "metadata": {},
   "source": [
    "# Regression Model\n",
    "## Load Data"
   ]
  },
  {
   "cell_type": "code",
   "execution_count": 7,
   "metadata": {},
   "outputs": [],
   "source": [
    "diabetes = datasets.load_diabetes()"
   ]
  },
  {
   "cell_type": "code",
   "execution_count": 156,
   "metadata": {},
   "outputs": [
    {
     "data": {
      "text/plain": [
       "['age', 'sex', 'bmi', 'bp', 's1', 's2', 's3', 's4', 's5', 's6']"
      ]
     },
     "execution_count": 156,
     "metadata": {},
     "output_type": "execute_result"
    }
   ],
   "source": [
    "diabetes['feature_names']"
   ]
  },
  {
   "cell_type": "code",
   "execution_count": 157,
   "metadata": {},
   "outputs": [
    {
     "data": {
      "text/plain": [
       "(442, 10)"
      ]
     },
     "execution_count": 157,
     "metadata": {},
     "output_type": "execute_result"
    }
   ],
   "source": [
    "diabetes['data'].shape"
   ]
  },
  {
   "cell_type": "code",
   "execution_count": 158,
   "metadata": {},
   "outputs": [],
   "source": [
    "x = pd.DataFrame(diabetes['data'])"
   ]
  },
  {
   "cell_type": "code",
   "execution_count": 159,
   "metadata": {},
   "outputs": [],
   "source": [
    "x.columns=diabetes['feature_names']"
   ]
  },
  {
   "cell_type": "code",
   "execution_count": 160,
   "metadata": {},
   "outputs": [
    {
     "data": {
      "text/html": [
       "<div>\n",
       "<style scoped>\n",
       "    .dataframe tbody tr th:only-of-type {\n",
       "        vertical-align: middle;\n",
       "    }\n",
       "\n",
       "    .dataframe tbody tr th {\n",
       "        vertical-align: top;\n",
       "    }\n",
       "\n",
       "    .dataframe thead th {\n",
       "        text-align: right;\n",
       "    }\n",
       "</style>\n",
       "<table border=\"1\" class=\"dataframe\">\n",
       "  <thead>\n",
       "    <tr style=\"text-align: right;\">\n",
       "      <th></th>\n",
       "      <th>age</th>\n",
       "      <th>sex</th>\n",
       "      <th>bmi</th>\n",
       "      <th>bp</th>\n",
       "      <th>s1</th>\n",
       "      <th>s2</th>\n",
       "      <th>s3</th>\n",
       "      <th>s4</th>\n",
       "      <th>s5</th>\n",
       "      <th>s6</th>\n",
       "    </tr>\n",
       "  </thead>\n",
       "  <tbody>\n",
       "    <tr>\n",
       "      <th>0</th>\n",
       "      <td>0.038076</td>\n",
       "      <td>0.050680</td>\n",
       "      <td>0.061696</td>\n",
       "      <td>0.021872</td>\n",
       "      <td>-0.044223</td>\n",
       "      <td>-0.034821</td>\n",
       "      <td>-0.043401</td>\n",
       "      <td>-0.002592</td>\n",
       "      <td>0.019908</td>\n",
       "      <td>-0.017646</td>\n",
       "    </tr>\n",
       "    <tr>\n",
       "      <th>1</th>\n",
       "      <td>-0.001882</td>\n",
       "      <td>-0.044642</td>\n",
       "      <td>-0.051474</td>\n",
       "      <td>-0.026328</td>\n",
       "      <td>-0.008449</td>\n",
       "      <td>-0.019163</td>\n",
       "      <td>0.074412</td>\n",
       "      <td>-0.039493</td>\n",
       "      <td>-0.068330</td>\n",
       "      <td>-0.092204</td>\n",
       "    </tr>\n",
       "    <tr>\n",
       "      <th>2</th>\n",
       "      <td>0.085299</td>\n",
       "      <td>0.050680</td>\n",
       "      <td>0.044451</td>\n",
       "      <td>-0.005671</td>\n",
       "      <td>-0.045599</td>\n",
       "      <td>-0.034194</td>\n",
       "      <td>-0.032356</td>\n",
       "      <td>-0.002592</td>\n",
       "      <td>0.002864</td>\n",
       "      <td>-0.025930</td>\n",
       "    </tr>\n",
       "    <tr>\n",
       "      <th>3</th>\n",
       "      <td>-0.089063</td>\n",
       "      <td>-0.044642</td>\n",
       "      <td>-0.011595</td>\n",
       "      <td>-0.036656</td>\n",
       "      <td>0.012191</td>\n",
       "      <td>0.024991</td>\n",
       "      <td>-0.036038</td>\n",
       "      <td>0.034309</td>\n",
       "      <td>0.022692</td>\n",
       "      <td>-0.009362</td>\n",
       "    </tr>\n",
       "    <tr>\n",
       "      <th>4</th>\n",
       "      <td>0.005383</td>\n",
       "      <td>-0.044642</td>\n",
       "      <td>-0.036385</td>\n",
       "      <td>0.021872</td>\n",
       "      <td>0.003935</td>\n",
       "      <td>0.015596</td>\n",
       "      <td>0.008142</td>\n",
       "      <td>-0.002592</td>\n",
       "      <td>-0.031991</td>\n",
       "      <td>-0.046641</td>\n",
       "    </tr>\n",
       "  </tbody>\n",
       "</table>\n",
       "</div>"
      ],
      "text/plain": [
       "        age       sex       bmi        bp        s1        s2        s3  \\\n",
       "0  0.038076  0.050680  0.061696  0.021872 -0.044223 -0.034821 -0.043401   \n",
       "1 -0.001882 -0.044642 -0.051474 -0.026328 -0.008449 -0.019163  0.074412   \n",
       "2  0.085299  0.050680  0.044451 -0.005671 -0.045599 -0.034194 -0.032356   \n",
       "3 -0.089063 -0.044642 -0.011595 -0.036656  0.012191  0.024991 -0.036038   \n",
       "4  0.005383 -0.044642 -0.036385  0.021872  0.003935  0.015596  0.008142   \n",
       "\n",
       "         s4        s5        s6  \n",
       "0 -0.002592  0.019908 -0.017646  \n",
       "1 -0.039493 -0.068330 -0.092204  \n",
       "2 -0.002592  0.002864 -0.025930  \n",
       "3  0.034309  0.022692 -0.009362  \n",
       "4 -0.002592 -0.031991 -0.046641  "
      ]
     },
     "execution_count": 160,
     "metadata": {},
     "output_type": "execute_result"
    }
   ],
   "source": [
    "x.head()"
   ]
  },
  {
   "cell_type": "code",
   "execution_count": 8,
   "metadata": {},
   "outputs": [],
   "source": [
    "y = diabetes['target']"
   ]
  },
  {
   "cell_type": "markdown",
   "metadata": {},
   "source": [
    "## Scale Data\n",
    "\n",
    "Neural Networks are especially sensitive do data scaling. Nearly all the activation functions saturate at (0,1) or (-1,1)"
   ]
  },
  {
   "cell_type": "code",
   "execution_count": 163,
   "metadata": {},
   "outputs": [
    {
     "name": "stdout",
     "output_type": "stream",
     "text": [
      "Note: median values were scaled by multiplying by 3.6579246898 and adding 0.503942\n"
     ]
    }
   ],
   "source": [
    "from sklearn.preprocessing import MinMaxScaler # scale the values to exist between 0 and 1\n",
    "\n",
    "scaler = MinMaxScaler(feature_range=(0, 1))\n",
    "scaled_train = scaler.fit_transform(x)\n",
    "\n",
    "# Print out the adjustment that the scaler applied to the total_earnings column of data\n",
    "print(\"Note: median values were scaled by multiplying by {:.10f} and adding {:.6f}\".format(scaler.scale_[9], scaler.min_[9]))\n",
    "multiplied_by = scaler.scale_[9]\n",
    "added = scaler.min_[9]\n",
    "\n",
    "scaled_train_df = pd.DataFrame(scaled_train, columns=x.columns.values)"
   ]
  },
  {
   "cell_type": "code",
   "execution_count": 164,
   "metadata": {},
   "outputs": [],
   "source": [
    "import matplotlib.pyplot as plt\n",
    "%matplotlib inline"
   ]
  },
  {
   "cell_type": "code",
   "execution_count": 165,
   "metadata": {
    "scrolled": true
   },
   "outputs": [
    {
     "data": {
      "image/png": "[encoded data removed]",
      "text/plain": [
       "<Figure size 432x288 with 1 Axes>"
      ]
     },
     "metadata": {
      "needs_background": "light"
     },
     "output_type": "display_data"
    },
    {
     "data": {
      "image/png": "[encoded data removed]",
      "text/plain": [
       "<Figure size 432x288 with 1 Axes>"
      ]
     },
     "metadata": {
      "needs_background": "light"
     },
     "output_type": "display_data"
    },
    {
     "data": {
      "image/png": "[encoded data removed]",
      "text/plain": [
       "<Figure size 432x288 with 1 Axes>"
      ]
     },
     "metadata": {
      "needs_background": "light"
     },
     "output_type": "display_data"
    },
    {
     "data": {
      "image/png": "[encoded data removed]",
      "text/plain": [
       "<Figure size 432x288 with 1 Axes>"
      ]
     },
     "metadata": {
      "needs_background": "light"
     },
     "output_type": "display_data"
    },
    {
     "data": {
      "image/png": "[encoded data removed]",
      "text/plain": [
       "<Figure size 432x288 with 1 Axes>"
      ]
     },
     "metadata": {
      "needs_background": "light"
     },
     "output_type": "display_data"
    },
    {
     "data": {
      "image/png": "[encoded data removed]",
      "text/plain": [
       "<Figure size 432x288 with 1 Axes>"
      ]
     },
     "metadata": {
      "needs_background": "light"
     },
     "output_type": "display_data"
    },
    {
     "data": {
      "image/png": "[encoded data removed]",
      "text/plain": [
       "<Figure size 432x288 with 1 Axes>"
      ]
     },
     "metadata": {
      "needs_background": "light"
     },
     "output_type": "display_data"
    },
    {
     "data": {
      "image/png": "[encoded data removed]",
      "text/plain": [
       "<Figure size 432x288 with 1 Axes>"
      ]
     },
     "metadata": {
      "needs_background": "light"
     },
     "output_type": "display_data"
    },
    {
     "data": {
      "image/png": "[encoded data removed]",
      "text/plain": [
       "<Figure size 432x288 with 1 Axes>"
      ]
     },
     "metadata": {
      "needs_background": "light"
     },
     "output_type": "display_data"
    },
    {
     "data": {
      "image/png": "[encoded data removed]",
      "text/plain": [
       "<Figure size 432x288 with 1 Axes>"
      ]
     },
     "metadata": {
      "needs_background": "light"
     },
     "output_type": "display_data"
    }
   ],
   "source": [
    "for i in scaled_train_df:\n",
    "    scaled_train_df[i].hist()\n",
    "    plt.show()"
   ]
  },
  {
   "cell_type": "markdown",
   "metadata": {},
   "source": [
    "## Regression Model \n",
    "Alright lets get down to business.  We will use the Sequential() class to build a model.  This means we just add layer after layer to the model (in order).\n",
    "\n",
    "Note that this is NOT the keras package proper.  This is an implementation of the Keras API in tensorflow.  THey are closely related, but this IS Tensorflow (package), not Keras (package)"
   ]
  },
  {
   "cell_type": "code",
   "execution_count": 166,
   "metadata": {},
   "outputs": [
    {
     "data": {
      "text/plain": [
       "(442, 10)"
      ]
     },
     "execution_count": 166,
     "metadata": {},
     "output_type": "execute_result"
    }
   ],
   "source": [
    "x.shape"
   ]
  },
  {
   "cell_type": "code",
   "execution_count": 167,
   "metadata": {},
   "outputs": [
    {
     "data": {
      "text/plain": [
       "(442,)"
      ]
     },
     "execution_count": 167,
     "metadata": {},
     "output_type": "execute_result"
    }
   ],
   "source": [
    "y.shape"
   ]
  },
  {
   "cell_type": "markdown",
   "metadata": {},
   "source": [
    "### Logistic Regression for Activiation Function"
   ]
  },
  {
   "cell_type": "code",
   "execution_count": 168,
   "metadata": {},
   "outputs": [],
   "source": [
    "model = tf.keras.Sequential()\n",
    "model.add(layers.Dense(100, activation='sigmoid'))\n",
    "model.add(layers.Dense(1))"
   ]
  },
  {
   "cell_type": "markdown",
   "metadata": {},
   "source": [
    "## Compile Model\n",
    "### Optimization\n",
    "\n",
    "Here, the optimizer selected is Adam, which optimizes by updating the weights, iteratively, during the training process, until the ideal weight is discovered. This functions similarly to stochastic gradient descent, but is faster because it requires less memory. Since there is a large dimension of data, I selected Adam over SGD. I did this for both regression and classification - although they are different datasets, both are large enough to benefit from this."
   ]
  },
  {
   "cell_type": "code",
   "execution_count": 169,
   "metadata": {},
   "outputs": [],
   "source": [
    "model.compile(optimizer='adam', # Stochastic Gradiant Descent is slow and gets the same results as adam so use adam instead\n",
    "              loss='mean_squared_error',\n",
    "              metrics=['mean_squared_error'])"
   ]
  },
  {
   "cell_type": "markdown",
   "metadata": {},
   "source": [
    "## Fit model\n",
    "Now it is time to train"
   ]
  },
  {
   "cell_type": "code",
   "execution_count": 188,
   "metadata": {},
   "outputs": [],
   "source": [
    "from datetime import datetime\n",
    "from keras.callbacks import TensorBoard\n",
    "from tensorflow import keras\n",
    "from time import time\n",
    "from tensorflow.keras.callbacks import TensorBoard, EarlyStopping\n",
    "\n",
    "#tb = TensorBoard(log_dir=f\"log_regression\\\\{time()}\")\n",
    "es = EarlyStopping(min_delta=0,patience=10) \n",
    "logdir = \"log_regression/scalars/\" + datetime.now().strftime(\"%Y%m%d-%H%M%S\")\n",
    "tensorboard_callback = keras.callbacks.TensorBoard(log_dir=logdir);"
   ]
  },
  {
   "cell_type": "markdown",
   "metadata": {},
   "source": [
    "## How did you know when you were done training?\n",
    "I knew the model was done training when subsequent epochs failed to continue reducing the loss.\n",
    "\n",
    "Holding batch size constant at 32, 100 epochs produced a loss of 6,888. 1,000 epochs produced a loss 2,850. 5,000 epochs produced 2,681. However, after plotting the training and validation curves in tensorboard, the decrease in loss flattened around epoch 730. Therefore, that's where the training should be halted to prevent over-fitting the data."
   ]
  },
  {
   "cell_type": "code",
   "execution_count": 189,
   "metadata": {},
   "outputs": [],
   "source": [
    "z = model.fit(scaled_train_df.values, y, epochs=5000, batch_size=32, verbose=0, callbacks=[tensorboard_callback]) # You want a reasonable batch size, but not too small"
   ]
  },
  {
   "cell_type": "code",
   "execution_count": 203,
   "metadata": {},
   "outputs": [
    {
     "name": "stdout",
     "output_type": "stream",
     "text": [
      "             loss  mean_squared_error\n",
      "4992  2428.466975         2428.467285\n"
     ]
    }
   ],
   "source": [
    "print(hist_df[hist_df.loss == hist_df.loss.min()])"
   ]
  },
  {
   "cell_type": "code",
   "execution_count": 204,
   "metadata": {},
   "outputs": [
    {
     "name": "stdout",
     "output_type": "stream",
     "text": [
      "Average test loss:  2543.3306746279345\n"
     ]
    }
   ],
   "source": [
    "print(\"Average test loss: \", np.average(z.history['loss']))"
   ]
  },
  {
   "cell_type": "markdown",
   "metadata": {},
   "source": [
    "## Visualize that data\n",
    "Tensorboard allows you to look at your training curves in real time.  All we need to do here is add a \"callback\" that is executed every epoch end.  Tensorboard writes a summary of the model output. Please run the tensorflow command to view the tensorboards generated using the data in the zip folder's log_classification and log_regression directories."
   ]
  },
  {
   "cell_type": "code",
   "execution_count": 205,
   "metadata": {},
   "outputs": [],
   "source": [
    "model.compile(optimizer='adam',\n",
    "              loss='mean_squared_error',\n",
    "              metrics=['mean_squared_error'])"
   ]
  },
  {
   "cell_type": "markdown",
   "metadata": {},
   "source": [
    "## Validate!!\n",
    "SO far we have used the entire dataset to train.  We know that Prof Slater frowns upon this.  In Neural Networks, ratter than a cross validation, a validation split is done.  Lets repeat the experiment with 20% splits\n"
   ]
  },
  {
   "cell_type": "code",
   "execution_count": 206,
   "metadata": {},
   "outputs": [],
   "source": [
    "from sklearn.model_selection import train_test_split\n",
    "x_train, x_test, y_train, y_test = train_test_split(scaled_train_df, y, test_size=0.20, random_state=1776)"
   ]
  },
  {
   "cell_type": "code",
   "execution_count": 207,
   "metadata": {},
   "outputs": [],
   "source": [
    "model_final = tf.keras.Sequential()\n",
    "# Adds a densely-connected layer with 64 units to the model:\n",
    "\n",
    "model_final.add(layers.Dense(100, activation='sigmoid'))\n",
    "model_final.add(layers.Dense(100, activation='sigmoid'))\n",
    "model_final.add(layers.Dense(1))"
   ]
  },
  {
   "cell_type": "code",
   "execution_count": 208,
   "metadata": {},
   "outputs": [],
   "source": [
    "model_final.compile(optimizer=tf.optimizers.Adam(0.001),\n",
    "              loss='mean_squared_error',\n",
    "              metrics=['mean_squared_error'])"
   ]
  },
  {
   "cell_type": "code",
   "execution_count": 209,
   "metadata": {},
   "outputs": [],
   "source": [
    "from sklearn.model_selection import train_test_split"
   ]
  },
  {
   "cell_type": "code",
   "execution_count": 210,
   "metadata": {},
   "outputs": [],
   "source": [
    "out = model_final.fit(x_train.values, y_train, validation_data=(x_test.values,y_test), epochs=5000, batch_size=32,callbacks=[tensorboard_callback,es], verbose=0)"
   ]
  },
  {
   "cell_type": "markdown",
   "metadata": {},
   "source": [
    "### Regression Model Histogram Plot of Weights"
   ]
  },
  {
   "cell_type": "code",
   "execution_count": 408,
   "metadata": {},
   "outputs": [
    {
     "data": {
      "image/png": "[encoded data removed]",
      "text/plain": [
       "<Figure size 432x288 with 1 Axes>"
      ]
     },
     "metadata": {
      "needs_background": "light"
     },
     "output_type": "display_data"
    }
   ],
   "source": [
    "w = model_final.get_weights()\n",
    "plt.hist(w[4]);"
   ]
  },
  {
   "cell_type": "code",
   "execution_count": 385,
   "metadata": {},
   "outputs": [],
   "source": [
    "out_history = pd.DataFrame(out.history)"
   ]
  },
  {
   "cell_type": "code",
   "execution_count": 386,
   "metadata": {},
   "outputs": [
    {
     "name": "stdout",
     "output_type": "stream",
     "text": [
      "           loss  mean_squared_error     val_loss  val_mean_squared_error\n",
      "745  2872.52244         2872.522461  3577.870079             3577.870117\n"
     ]
    }
   ],
   "source": [
    "print(out_history[out_history.loss == out_history.loss.min()])"
   ]
  },
  {
   "cell_type": "code",
   "execution_count": 387,
   "metadata": {},
   "outputs": [
    {
     "name": "stdout",
     "output_type": "stream",
     "text": [
      "Average test loss:  7085.160467233977\n"
     ]
    }
   ],
   "source": [
    "print(\"Average test loss: \", np.average(out.history['loss']))"
   ]
  },
  {
   "cell_type": "code",
   "execution_count": 226,
   "metadata": {},
   "outputs": [],
   "source": [
    "logdir = \"logs_regression/scalars/\" + datetime.now().strftime(\"%Y%m%d-%H%M%S\")\n",
    "tensorboard_callback = keras.callbacks.TensorBoard(log_dir=logdir);"
   ]
  },
  {
   "cell_type": "code",
   "execution_count": 2,
   "metadata": {},
   "outputs": [
    {
     "name": "stdout",
     "output_type": "stream",
     "text": [
      "The tensorboard extension is already loaded. To reload it, use:\n",
      "  %reload_ext tensorboard\n"
     ]
    },
    {
     "data": {
      "text/plain": [
       "Reusing TensorBoard on port 6012 (pid 29756), started 0:00:02 ago. (Use '!kill 29756' to kill it.)"
      ]
     },
     "metadata": {},
     "output_type": "display_data"
    },
    {
     "data": {
      "text/html": [
       "\n",
       "      <iframe id=\"tensorboard-frame-5314a333c1617421\" width=\"100%\" height=\"800\" frameborder=\"0\">\n",
       "      </iframe>\n",
       "      <script>\n",
       "        (function() {\n",
       "          const frame = document.getElementById(\"tensorboard-frame-5314a333c1617421\");\n",
       "          const url = new URL(\"/\", window.location);\n",
       "          url.port = 6012;\n",
       "          frame.src = url;\n",
       "        })();\n",
       "      </script>\n",
       "  "
      ],
      "text/plain": [
       "<IPython.core.display.HTML object>"
      ]
     },
     "metadata": {},
     "output_type": "display_data"
    }
   ],
   "source": [
    "%load_ext tensorboard\n",
    "%tensorboard --logdir log_regression"
   ]
  },
  {
   "cell_type": "markdown",
   "metadata": {},
   "source": [
    "# Classification Model\n",
    "There are 10 target classes to be predicted using the digits dataset. The output layer has been set to 10."
   ]
  },
  {
   "cell_type": "code",
   "execution_count": 113,
   "metadata": {},
   "outputs": [],
   "source": [
    "model_digits = tf.keras.Sequential()\n",
    "# Adds a densely-connected layer with 64 units to the model:\n",
    "\n",
    "model_digits.add(layers.Dense(1000, activation='sigmoid')) # hidden layer 1\n",
    "model_digits.add(layers.Dense(100, activation='sigmoid')) # hidden layer 2\n",
    "model_digits.add(layers.Dense(10,activation='sigmoid'),) # output layer - one node for each target value (in this case, the target can be 0-9 so 10 outputs)\n",
    "\n",
    "model_digits.compile(optimizer=tf.optimizers.Adam(0.01),\n",
    "              loss=tf.keras.losses.SparseCategoricalCrossentropy(), # You want sparsecategorical if your data is integer (like one-hot encoded classes)\n",
    "              metrics=['accuracy'])"
   ]
  },
  {
   "cell_type": "code",
   "execution_count": 114,
   "metadata": {},
   "outputs": [],
   "source": [
    "digits = datasets.load_digits()\n",
    "x = pd.DataFrame(digits['data'])\n",
    "digits['target']\n",
    "y = digits['target']"
   ]
  },
  {
   "cell_type": "code",
   "execution_count": 116,
   "metadata": {},
   "outputs": [],
   "source": [
    "x= digits['data']\n",
    "y = digits['target']\n",
    "# Why do I not have to scale? -- Because this is a classification model built on bayesian probability?\n",
    "x_train, x_test, y_train, y_test = train_test_split(x, y, test_size=0.50, random_state=1776)"
   ]
  },
  {
   "cell_type": "code",
   "execution_count": null,
   "metadata": {},
   "outputs": [],
   "source": [
    "z2 = model_digits.fit(x_train, y_train, validation_data=(x_test,y_test), epochs=5000, batch_size=16, callbacks=[tb,es,tensorboard_callback], verbose=0)"
   ]
  },
  {
   "cell_type": "markdown",
   "metadata": {},
   "source": [
    "### Classification Model Histogram Plot of Weights"
   ]
  },
  {
   "cell_type": "code",
   "execution_count": 392,
   "metadata": {},
   "outputs": [
    {
     "data": {
      "image/png": "[encoded data removed]",
      "text/plain": [
       "<Figure size 432x288 with 1 Axes>"
      ]
     },
     "metadata": {
      "needs_background": "light"
     },
     "output_type": "display_data"
    }
   ],
   "source": [
    "w = model_digits.get_weights()\n",
    "plt.hist(w[1]);"
   ]
  },
  {
   "cell_type": "code",
   "execution_count": 135,
   "metadata": {},
   "outputs": [],
   "source": [
    "z2_history = pd.DataFrame(z2.history)"
   ]
  },
  {
   "cell_type": "code",
   "execution_count": 136,
   "metadata": {},
   "outputs": [
    {
     "name": "stdout",
     "output_type": "stream",
     "text": [
      "       loss  accuracy  val_loss  val_accuracy\n",
      "6  0.115654   0.96882   0.26071      0.923248\n"
     ]
    }
   ],
   "source": [
    "print(z2_history[z2_history.loss == z2_history.loss.min()])"
   ]
  },
  {
   "cell_type": "code",
   "execution_count": 137,
   "metadata": {},
   "outputs": [
    {
     "name": "stdout",
     "output_type": "stream",
     "text": [
      "Average test loss:  0.27512591918833723\n"
     ]
    }
   ],
   "source": [
    "print(\"Average test loss: \", np.average(z2.history['loss']))"
   ]
  },
  {
   "cell_type": "code",
   "execution_count": 141,
   "metadata": {},
   "outputs": [],
   "source": [
    "logdir = \"log_classification/scalars/\" + datetime.now().strftime(\"%Y%m%d-%H%M%S\")\n",
    "tensorboard_callback = keras.callbacks.TensorBoard(log_dir=logdir);"
   ]
  },
  {
   "cell_type": "markdown",
   "metadata": {},
   "source": [
    "## How did you know when you were done training?\n",
    "### Validation curves and stopping point\n",
    "\n",
    "Based on the tensorboard graphs for model loss and accuracy below, the ideal stopping point is at 6 epochs. At this point, accuracy is at its highest and epcoh loss it as its lowest."
   ]
  },
  {
   "cell_type": "code",
   "execution_count": 4,
   "metadata": {},
   "outputs": [
    {
     "name": "stdout",
     "output_type": "stream",
     "text": [
      "The tensorboard extension is already loaded. To reload it, use:\n",
      "  %reload_ext tensorboard\n"
     ]
    },
    {
     "data": {
      "text/plain": [
       "Reusing TensorBoard on port 6013 (pid 29782), started 0:00:02 ago. (Use '!kill 29782' to kill it.)"
      ]
     },
     "metadata": {},
     "output_type": "display_data"
    },
    {
     "data": {
      "text/html": [
       "\n",
       "      <iframe id=\"tensorboard-frame-2d283955ecc060ba\" width=\"100%\" height=\"800\" frameborder=\"0\">\n",
       "      </iframe>\n",
       "      <script>\n",
       "        (function() {\n",
       "          const frame = document.getElementById(\"tensorboard-frame-2d283955ecc060ba\");\n",
       "          const url = new URL(\"/\", window.location);\n",
       "          url.port = 6013;\n",
       "          frame.src = url;\n",
       "        })();\n",
       "      </script>\n",
       "  "
      ],
      "text/plain": [
       "<IPython.core.display.HTML object>"
      ]
     },
     "metadata": {},
     "output_type": "display_data"
    }
   ],
   "source": [
    "%load_ext tensorboard\n",
    "%tensorboard --logdir log_classification"
   ]
  },
  {
   "cell_type": "markdown",
   "metadata": {},
   "source": [
    "# Scraping Billboard Hot 100"
   ]
  },
  {
   "cell_type": "code",
   "execution_count": null,
   "metadata": {},
   "outputs": [],
   "source": [
    "######################################################\n",
    "######################################################\n",
    "######################################################\n",
    "######################################################\n",
    "################### This one works ###################\n",
    "######################################################\n",
    "######################################################\n",
    "######################################################\n",
    "######################################################\n",
    "# Scraping the Billboard Hot 100"
   ]
  },
  {
   "cell_type": "code",
   "execution_count": 19,
   "metadata": {},
   "outputs": [],
   "source": [
    "def get_top100(url):\n",
    "    import urllib.request\n",
    "    from bs4 import BeautifulSoup\n",
    "    import pandas as pd\n",
    "    \n",
    "    page=urllib.request.Request(url,headers={'User-Agent': 'Mozilla/5.0'}) \n",
    "    infile=urllib.request.urlopen(page).read()\n",
    "    data = infile.decode('ISO-8859-1')\n",
    "    soup = BeautifulSoup(data, 'html.parser')\n",
    "\n",
    "    rank = {'class': 'chart-element__rank__number'}\n",
    "    songs = {'class': 'chart-element__information__song text--truncate color--primary'}\n",
    "    artists = {'class': 'chart-element__information__artist text--truncate color--secondary'}\n",
    "    divs = soup.findAll(attrs=songs) + soup.findAll(attrs=rank) + soup.findAll(attrs=artists)\n",
    "    \n",
    "    all_songs = pd.Series(divs[0:100])\n",
    "    all_ranks = pd.Series(divs[100:200])\n",
    "    all_artists = pd.Series(divs[200:300])\n",
    "    frame = [all_ranks, all_songs, all_artists]\n",
    "    billboard_df = pd.concat(frame, axis=1)\n",
    "    billboard_df.columns = ['Rank','Song','Artist']\n",
    "    pd.set_option('max_colwidth', 400)\n",
    "    pd.options.display.max_rows = 100\n",
    "    return billboard_df;"
   ]
  },
  {
   "cell_type": "code",
   "execution_count": 20,
   "metadata": {},
   "outputs": [
    {
     "data": {
      "text/html": [
       "<div>\n",
       "<style scoped>\n",
       "    .dataframe tbody tr th:only-of-type {\n",
       "        vertical-align: middle;\n",
       "    }\n",
       "\n",
       "    .dataframe tbody tr th {\n",
       "        vertical-align: top;\n",
       "    }\n",
       "\n",
       "    .dataframe thead th {\n",
       "        text-align: right;\n",
       "    }\n",
       "</style>\n",
       "<table border=\"1\" class=\"dataframe\">\n",
       "  <thead>\n",
       "    <tr style=\"text-align: right;\">\n",
       "      <th></th>\n",
       "      <th>Rank</th>\n",
       "      <th>Song</th>\n",
       "      <th>Artist</th>\n",
       "    </tr>\n",
       "  </thead>\n",
       "  <tbody>\n",
       "    <tr>\n",
       "      <th>0</th>\n",
       "      <td>[1]</td>\n",
       "      <td>[THE SCOTTS]</td>\n",
       "      <td>[THE SCOTTS, Travis Scott &amp; Kid Cudi]</td>\n",
       "    </tr>\n",
       "    <tr>\n",
       "      <th>1</th>\n",
       "      <td>[2]</td>\n",
       "      <td>[Blinding Lights]</td>\n",
       "      <td>[The Weeknd]</td>\n",
       "    </tr>\n",
       "    <tr>\n",
       "      <th>2</th>\n",
       "      <td>[3]</td>\n",
       "      <td>[Toosie Slide]</td>\n",
       "      <td>[Drake]</td>\n",
       "    </tr>\n",
       "    <tr>\n",
       "      <th>3</th>\n",
       "      <td>[4]</td>\n",
       "      <td>[Savage]</td>\n",
       "      <td>[Megan Thee Stallion]</td>\n",
       "    </tr>\n",
       "    <tr>\n",
       "      <th>4</th>\n",
       "      <td>[5]</td>\n",
       "      <td>[The Box]</td>\n",
       "      <td>[Roddy Ricch]</td>\n",
       "    </tr>\n",
       "    <tr>\n",
       "      <th>5</th>\n",
       "      <td>[6]</td>\n",
       "      <td>[Say So]</td>\n",
       "      <td>[Doja Cat]</td>\n",
       "    </tr>\n",
       "    <tr>\n",
       "      <th>6</th>\n",
       "      <td>[7]</td>\n",
       "      <td>[Don't Start Now]</td>\n",
       "      <td>[Dua Lipa]</td>\n",
       "    </tr>\n",
       "    <tr>\n",
       "      <th>7</th>\n",
       "      <td>[8]</td>\n",
       "      <td>[Circles]</td>\n",
       "      <td>[Post Malone]</td>\n",
       "    </tr>\n",
       "    <tr>\n",
       "      <th>8</th>\n",
       "      <td>[9]</td>\n",
       "      <td>[Intentions]</td>\n",
       "      <td>[Justin Bieber Featuring Quavo]</td>\n",
       "    </tr>\n",
       "    <tr>\n",
       "      <th>9</th>\n",
       "      <td>[10]</td>\n",
       "      <td>[Adore You]</td>\n",
       "      <td>[Harry Styles]</td>\n",
       "    </tr>\n",
       "    <tr>\n",
       "      <th>10</th>\n",
       "      <td>[11]</td>\n",
       "      <td>[Righteous]</td>\n",
       "      <td>[Juice WRLD]</td>\n",
       "    </tr>\n",
       "    <tr>\n",
       "      <th>11</th>\n",
       "      <td>[12]</td>\n",
       "      <td>[Life Is Good]</td>\n",
       "      <td>[Future Featuring Drake]</td>\n",
       "    </tr>\n",
       "    <tr>\n",
       "      <th>12</th>\n",
       "      <td>[13]</td>\n",
       "      <td>[My Oh My]</td>\n",
       "      <td>[Camila Cabello Featuring DaBaby]</td>\n",
       "    </tr>\n",
       "    <tr>\n",
       "      <th>13</th>\n",
       "      <td>[14]</td>\n",
       "      <td>[ROCKSTAR]</td>\n",
       "      <td>[DaBaby Featuring Roddy Ricch]</td>\n",
       "    </tr>\n",
       "    <tr>\n",
       "      <th>14</th>\n",
       "      <td>[15]</td>\n",
       "      <td>[The Bones]</td>\n",
       "      <td>[Maren Morris]</td>\n",
       "    </tr>\n",
       "    <tr>\n",
       "      <th>15</th>\n",
       "      <td>[16]</td>\n",
       "      <td>[everything i wanted]</td>\n",
       "      <td>[Billie Eilish]</td>\n",
       "    </tr>\n",
       "    <tr>\n",
       "      <th>16</th>\n",
       "      <td>[17]</td>\n",
       "      <td>[Someone You Loved]</td>\n",
       "      <td>[Lewis Capaldi]</td>\n",
       "    </tr>\n",
       "    <tr>\n",
       "      <th>17</th>\n",
       "      <td>[18]</td>\n",
       "      <td>[Nobody But You]</td>\n",
       "      <td>[Blake Shelton Duet With Gwen Stefani]</td>\n",
       "    </tr>\n",
       "    <tr>\n",
       "      <th>18</th>\n",
       "      <td>[19]</td>\n",
       "      <td>[I Hope]</td>\n",
       "      <td>[Gabby Barrett]</td>\n",
       "    </tr>\n",
       "    <tr>\n",
       "      <th>19</th>\n",
       "      <td>[20]</td>\n",
       "      <td>[Blueberry Faygo]</td>\n",
       "      <td>[Lil Mosey]</td>\n",
       "    </tr>\n",
       "    <tr>\n",
       "      <th>20</th>\n",
       "      <td>[21]</td>\n",
       "      <td>[Memories]</td>\n",
       "      <td>[Maroon 5]</td>\n",
       "    </tr>\n",
       "    <tr>\n",
       "      <th>21</th>\n",
       "      <td>[22]</td>\n",
       "      <td>[Chasin' You]</td>\n",
       "      <td>[Morgan Wallen]</td>\n",
       "    </tr>\n",
       "    <tr>\n",
       "      <th>22</th>\n",
       "      <td>[23]</td>\n",
       "      <td>[Roses (Imanbek Remix)]</td>\n",
       "      <td>[SAINt JHN]</td>\n",
       "    </tr>\n",
       "    <tr>\n",
       "      <th>23</th>\n",
       "      <td>[24]</td>\n",
       "      <td>[Falling]</td>\n",
       "      <td>[Trevor Daniel]</td>\n",
       "    </tr>\n",
       "    <tr>\n",
       "      <th>24</th>\n",
       "      <td>[25]</td>\n",
       "      <td>[High Fashion]</td>\n",
       "      <td>[Roddy Ricch Featuring Mustard]</td>\n",
       "    </tr>\n",
       "    <tr>\n",
       "      <th>25</th>\n",
       "      <td>[26]</td>\n",
       "      <td>[death bed]</td>\n",
       "      <td>[Powfu Featuring beabadoobee]</td>\n",
       "    </tr>\n",
       "    <tr>\n",
       "      <th>26</th>\n",
       "      <td>[27]</td>\n",
       "      <td>[Hot Girl Bummer]</td>\n",
       "      <td>[blackbear]</td>\n",
       "    </tr>\n",
       "    <tr>\n",
       "      <th>27</th>\n",
       "      <td>[28]</td>\n",
       "      <td>[Sunday Best]</td>\n",
       "      <td>[Surfaces]</td>\n",
       "    </tr>\n",
       "    <tr>\n",
       "      <th>28</th>\n",
       "      <td>[29]</td>\n",
       "      <td>[RITMO (Bad Boys For Life)]</td>\n",
       "      <td>[The Black Eyed Peas X J Balvin]</td>\n",
       "    </tr>\n",
       "    <tr>\n",
       "      <th>29</th>\n",
       "      <td>[30]</td>\n",
       "      <td>[Does To Me]</td>\n",
       "      <td>[Luke Combs Featuring Eric Church]</td>\n",
       "    </tr>\n",
       "    <tr>\n",
       "      <th>30</th>\n",
       "      <td>[31]</td>\n",
       "      <td>[Heart On Ice]</td>\n",
       "      <td>[Rod Wave]</td>\n",
       "    </tr>\n",
       "    <tr>\n",
       "      <th>31</th>\n",
       "      <td>[32]</td>\n",
       "      <td>[Ballin']</td>\n",
       "      <td>[Mustard &amp; Roddy Ricch]</td>\n",
       "    </tr>\n",
       "    <tr>\n",
       "      <th>32</th>\n",
       "      <td>[33]</td>\n",
       "      <td>[Roxanne]</td>\n",
       "      <td>[Arizona Zervas]</td>\n",
       "    </tr>\n",
       "    <tr>\n",
       "      <th>33</th>\n",
       "      <td>[34]</td>\n",
       "      <td>[Dance Monkey]</td>\n",
       "      <td>[Tones And I]</td>\n",
       "    </tr>\n",
       "    <tr>\n",
       "      <th>34</th>\n",
       "      <td>[35]</td>\n",
       "      <td>[Whats Poppin]</td>\n",
       "      <td>[Jack Harlow]</td>\n",
       "    </tr>\n",
       "    <tr>\n",
       "      <th>35</th>\n",
       "      <td>[36]</td>\n",
       "      <td>[Break My Heart]</td>\n",
       "      <td>[Dua Lipa]</td>\n",
       "    </tr>\n",
       "    <tr>\n",
       "      <th>36</th>\n",
       "      <td>[37]</td>\n",
       "      <td>[Heartless]</td>\n",
       "      <td>[The Weeknd]</td>\n",
       "    </tr>\n",
       "    <tr>\n",
       "      <th>37</th>\n",
       "      <td>[38]</td>\n",
       "      <td>[HIGHEST IN THE ROOM]</td>\n",
       "      <td>[Travis Scott]</td>\n",
       "    </tr>\n",
       "    <tr>\n",
       "      <th>38</th>\n",
       "      <td>[39]</td>\n",
       "      <td>[I Hope You're Happy Now]</td>\n",
       "      <td>[Carly Pearce &amp; Lee Brice]</td>\n",
       "    </tr>\n",
       "    <tr>\n",
       "      <th>39</th>\n",
       "      <td>[40]</td>\n",
       "      <td>[Beer Can't Fix]</td>\n",
       "      <td>[Thomas Rhett Featuring Jon Pardi]</td>\n",
       "    </tr>\n",
       "    <tr>\n",
       "      <th>40</th>\n",
       "      <td>[41]</td>\n",
       "      <td>[Level Of Concern]</td>\n",
       "      <td>[twenty one pilots]</td>\n",
       "    </tr>\n",
       "    <tr>\n",
       "      <th>41</th>\n",
       "      <td>[42]</td>\n",
       "      <td>[I Love Me]</td>\n",
       "      <td>[Demi Lovato]</td>\n",
       "    </tr>\n",
       "    <tr>\n",
       "      <th>42</th>\n",
       "      <td>[43]</td>\n",
       "      <td>[More Hearts Than Mine]</td>\n",
       "      <td>[Ingrid Andress]</td>\n",
       "    </tr>\n",
       "    <tr>\n",
       "      <th>43</th>\n",
       "      <td>[44]</td>\n",
       "      <td>[After A Few]</td>\n",
       "      <td>[Travis Denning]</td>\n",
       "    </tr>\n",
       "    <tr>\n",
       "      <th>44</th>\n",
       "      <td>[45]</td>\n",
       "      <td>[All In]</td>\n",
       "      <td>[Lil Baby]</td>\n",
       "    </tr>\n",
       "    <tr>\n",
       "      <th>45</th>\n",
       "      <td>[46]</td>\n",
       "      <td>[10,000 Hours]</td>\n",
       "      <td>[Dan + Shay &amp; Justin Bieber]</td>\n",
       "    </tr>\n",
       "    <tr>\n",
       "      <th>46</th>\n",
       "      <td>[47]</td>\n",
       "      <td>[Hard To Forget]</td>\n",
       "      <td>[Sam Hunt]</td>\n",
       "    </tr>\n",
       "    <tr>\n",
       "      <th>47</th>\n",
       "      <td>[48]</td>\n",
       "      <td>[Supalonely]</td>\n",
       "      <td>[BENEE Featuring Gus Dapperton]</td>\n",
       "    </tr>\n",
       "    <tr>\n",
       "      <th>48</th>\n",
       "      <td>[49]</td>\n",
       "      <td>[Goosebumps]</td>\n",
       "      <td>[Travis Scott]</td>\n",
       "    </tr>\n",
       "    <tr>\n",
       "      <th>49</th>\n",
       "      <td>[50]</td>\n",
       "      <td>[Before You Go]</td>\n",
       "      <td>[Lewis Capaldi]</td>\n",
       "    </tr>\n",
       "    <tr>\n",
       "      <th>50</th>\n",
       "      <td>[51]</td>\n",
       "      <td>[In Your Eyes]</td>\n",
       "      <td>[The Weeknd]</td>\n",
       "    </tr>\n",
       "    <tr>\n",
       "      <th>51</th>\n",
       "      <td>[52]</td>\n",
       "      <td>[Dior]</td>\n",
       "      <td>[Pop Smoke]</td>\n",
       "    </tr>\n",
       "    <tr>\n",
       "      <th>52</th>\n",
       "      <td>[53]</td>\n",
       "      <td>[Sum 2 Prove]</td>\n",
       "      <td>[Lil Baby]</td>\n",
       "    </tr>\n",
       "    <tr>\n",
       "      <th>53</th>\n",
       "      <td>[54]</td>\n",
       "      <td>[Slide]</td>\n",
       "      <td>[H.E.R. Featuring YG]</td>\n",
       "    </tr>\n",
       "    <tr>\n",
       "      <th>54</th>\n",
       "      <td>[55]</td>\n",
       "      <td>[Catch]</td>\n",
       "      <td>[Brett Young]</td>\n",
       "    </tr>\n",
       "    <tr>\n",
       "      <th>55</th>\n",
       "      <td>[56]</td>\n",
       "      <td>[Walk Em Down]</td>\n",
       "      <td>[NLE Choppa Featuring Roddy Ricch]</td>\n",
       "    </tr>\n",
       "    <tr>\n",
       "      <th>56</th>\n",
       "      <td>[57]</td>\n",
       "      <td>[Heartless]</td>\n",
       "      <td>[Diplo Presents Thomas Wesley Featuring Morgan Wallen]</td>\n",
       "    </tr>\n",
       "    <tr>\n",
       "      <th>57</th>\n",
       "      <td>[58]</td>\n",
       "      <td>[JUMP]</td>\n",
       "      <td>[DaBaby Featuring YoungBoy Never Broke Again]</td>\n",
       "    </tr>\n",
       "    <tr>\n",
       "      <th>58</th>\n",
       "      <td>[59]</td>\n",
       "      <td>[If The World Was Ending]</td>\n",
       "      <td>[JP Saxe Featuring Julia Michaels]</td>\n",
       "    </tr>\n",
       "    <tr>\n",
       "      <th>59</th>\n",
       "      <td>[60]</td>\n",
       "      <td>[OUT WEST]</td>\n",
       "      <td>[JACKBOYS Featuring Young Thug]</td>\n",
       "    </tr>\n",
       "    <tr>\n",
       "      <th>60</th>\n",
       "      <td>[61]</td>\n",
       "      <td>[Stupid Love]</td>\n",
       "      <td>[Lady Gaga]</td>\n",
       "    </tr>\n",
       "    <tr>\n",
       "      <th>61</th>\n",
       "      <td>[62]</td>\n",
       "      <td>[Yo Perreo Sola]</td>\n",
       "      <td>[Bad Bunny]</td>\n",
       "    </tr>\n",
       "    <tr>\n",
       "      <th>62</th>\n",
       "      <td>[63]</td>\n",
       "      <td>[I'm Ready]</td>\n",
       "      <td>[Sam Smith &amp; Demi Lovato]</td>\n",
       "    </tr>\n",
       "    <tr>\n",
       "      <th>63</th>\n",
       "      <td>[64]</td>\n",
       "      <td>[P*$$y Fairy (OTW)]</td>\n",
       "      <td>[Jhene Aiko]</td>\n",
       "    </tr>\n",
       "    <tr>\n",
       "      <th>64</th>\n",
       "      <td>[65]</td>\n",
       "      <td>[Sasuke]</td>\n",
       "      <td>[Lil Uzi Vert]</td>\n",
       "    </tr>\n",
       "    <tr>\n",
       "      <th>65</th>\n",
       "      <td>[66]</td>\n",
       "      <td>[Godzilla]</td>\n",
       "      <td>[Eminem Featuring Juice WRLD]</td>\n",
       "    </tr>\n",
       "    <tr>\n",
       "      <th>66</th>\n",
       "      <td>[67]</td>\n",
       "      <td>[Find My Way]</td>\n",
       "      <td>[DaBaby]</td>\n",
       "    </tr>\n",
       "    <tr>\n",
       "      <th>67</th>\n",
       "      <td>[68]</td>\n",
       "      <td>[Cool Again]</td>\n",
       "      <td>[Kane Brown]</td>\n",
       "    </tr>\n",
       "    <tr>\n",
       "      <th>68</th>\n",
       "      <td>[69]</td>\n",
       "      <td>[BELIEVE IT]</td>\n",
       "      <td>[PARTYNEXTDOOR &amp; Rihanna]</td>\n",
       "    </tr>\n",
       "    <tr>\n",
       "      <th>69</th>\n",
       "      <td>[70]</td>\n",
       "      <td>[Bluebird]</td>\n",
       "      <td>[Miranda Lambert]</td>\n",
       "    </tr>\n",
       "    <tr>\n",
       "      <th>70</th>\n",
       "      <td>[71]</td>\n",
       "      <td>[Emotionally Scarred]</td>\n",
       "      <td>[Lil Baby]</td>\n",
       "    </tr>\n",
       "    <tr>\n",
       "      <th>71</th>\n",
       "      <td>[72]</td>\n",
       "      <td>[You should be sad]</td>\n",
       "      <td>[Halsey]</td>\n",
       "    </tr>\n",
       "    <tr>\n",
       "      <th>72</th>\n",
       "      <td>[73]</td>\n",
       "      <td>[Here And Now]</td>\n",
       "      <td>[Kenny Chesney]</td>\n",
       "    </tr>\n",
       "    <tr>\n",
       "      <th>73</th>\n",
       "      <td>[74]</td>\n",
       "      <td>[Turks]</td>\n",
       "      <td>[NAV, Gunna &amp; Travis Scott]</td>\n",
       "    </tr>\n",
       "    <tr>\n",
       "      <th>74</th>\n",
       "      <td>[75]</td>\n",
       "      <td>[Be A Light]</td>\n",
       "      <td>[Thomas Rhett Featuring Reba McEntire, Hillary Scott, Chris Tomlin &amp; Keith Urban]</td>\n",
       "    </tr>\n",
       "    <tr>\n",
       "      <th>75</th>\n",
       "      <td>[76]</td>\n",
       "      <td>[Slow Dance In A Parking Lot]</td>\n",
       "      <td>[Jordan Davis]</td>\n",
       "    </tr>\n",
       "    <tr>\n",
       "      <th>76</th>\n",
       "      <td>[77]</td>\n",
       "      <td>[Come Thru]</td>\n",
       "      <td>[Summer Walker &amp; Usher]</td>\n",
       "    </tr>\n",
       "    <tr>\n",
       "      <th>77</th>\n",
       "      <td>[78]</td>\n",
       "      <td>[After Party]</td>\n",
       "      <td>[Don Toliver]</td>\n",
       "    </tr>\n",
       "    <tr>\n",
       "      <th>78</th>\n",
       "      <td>[79]</td>\n",
       "      <td>[Homemade]</td>\n",
       "      <td>[Jake Owen]</td>\n",
       "    </tr>\n",
       "    <tr>\n",
       "      <th>79</th>\n",
       "      <td>[80]</td>\n",
       "      <td>[Ride It.]</td>\n",
       "      <td>[Regard]</td>\n",
       "    </tr>\n",
       "    <tr>\n",
       "      <th>80</th>\n",
       "      <td>[81]</td>\n",
       "      <td>[God Whispered Your Name]</td>\n",
       "      <td>[Keith Urban]</td>\n",
       "    </tr>\n",
       "    <tr>\n",
       "      <th>81</th>\n",
       "      <td>[82]</td>\n",
       "      <td>[In Between]</td>\n",
       "      <td>[Scotty McCreery]</td>\n",
       "    </tr>\n",
       "    <tr>\n",
       "      <th>82</th>\n",
       "      <td>[83]</td>\n",
       "      <td>[Ain't Easy]</td>\n",
       "      <td>[YoungBoy Never Broke Again]</td>\n",
       "    </tr>\n",
       "    <tr>\n",
       "      <th>83</th>\n",
       "      <td>[84]</td>\n",
       "      <td>[Party Girl]</td>\n",
       "      <td>[StaySolidRocky]</td>\n",
       "    </tr>\n",
       "    <tr>\n",
       "      <th>84</th>\n",
       "      <td>[85]</td>\n",
       "      <td>[Die From A Broken Heart]</td>\n",
       "      <td>[Maddie &amp; Tae]</td>\n",
       "    </tr>\n",
       "    <tr>\n",
       "      <th>85</th>\n",
       "      <td>[86]</td>\n",
       "      <td>[Diamonds]</td>\n",
       "      <td>[YoungBoy Never Broke Again]</td>\n",
       "    </tr>\n",
       "    <tr>\n",
       "      <th>86</th>\n",
       "      <td>[87]</td>\n",
       "      <td>[Myron]</td>\n",
       "      <td>[Lil Uzi Vert]</td>\n",
       "    </tr>\n",
       "    <tr>\n",
       "      <th>87</th>\n",
       "      <td>[88]</td>\n",
       "      <td>[July]</td>\n",
       "      <td>[Noah Cyrus &amp; Leon Bridges]</td>\n",
       "    </tr>\n",
       "    <tr>\n",
       "      <th>88</th>\n",
       "      <td>[89]</td>\n",
       "      <td>[Captain Hook]</td>\n",
       "      <td>[Megan Thee Stallion]</td>\n",
       "    </tr>\n",
       "    <tr>\n",
       "      <th>89</th>\n",
       "      <td>[90]</td>\n",
       "      <td>[Bout My Business]</td>\n",
       "      <td>[YoungBoy Never Broke Again Featuring Sherhonda Gaulden]</td>\n",
       "    </tr>\n",
       "    <tr>\n",
       "      <th>90</th>\n",
       "      <td>[91]</td>\n",
       "      <td>[That Way]</td>\n",
       "      <td>[Lil Uzi Vert]</td>\n",
       "    </tr>\n",
       "    <tr>\n",
       "      <th>91</th>\n",
       "      <td>[92]</td>\n",
       "      <td>[Rough Ryder]</td>\n",
       "      <td>[YoungBoy Never Broke Again]</td>\n",
       "    </tr>\n",
       "    <tr>\n",
       "      <th>92</th>\n",
       "      <td>[93]</td>\n",
       "      <td>[B.S.]</td>\n",
       "      <td>[Jhene Aiko Featuring H.E.R.]</td>\n",
       "    </tr>\n",
       "    <tr>\n",
       "      <th>93</th>\n",
       "      <td>[94]</td>\n",
       "      <td>[Underdog]</td>\n",
       "      <td>[Alicia Keys]</td>\n",
       "    </tr>\n",
       "    <tr>\n",
       "      <th>94</th>\n",
       "      <td>[95]</td>\n",
       "      <td>[I Love My Country]</td>\n",
       "      <td>[Florida Georgia Line]</td>\n",
       "    </tr>\n",
       "    <tr>\n",
       "      <th>95</th>\n",
       "      <td>[96]</td>\n",
       "      <td>[NASTY]</td>\n",
       "      <td>[DaBaby Featuring Ashanti &amp; Megan Thee Stallion]</td>\n",
       "    </tr>\n",
       "    <tr>\n",
       "      <th>96</th>\n",
       "      <td>[97]</td>\n",
       "      <td>[Drinking Alone]</td>\n",
       "      <td>[Carrie Underwood]</td>\n",
       "    </tr>\n",
       "    <tr>\n",
       "      <th>97</th>\n",
       "      <td>[98]</td>\n",
       "      <td>[PTSD]</td>\n",
       "      <td>[G Herbo Featuring Chance The Rapper, Juice WRLD &amp; Lil Uzi Vert]</td>\n",
       "    </tr>\n",
       "    <tr>\n",
       "      <th>98</th>\n",
       "      <td>[99]</td>\n",
       "      <td>[Thug Of Spades]</td>\n",
       "      <td>[YoungBoy Never Broke Again Featuring DaBaby]</td>\n",
       "    </tr>\n",
       "    <tr>\n",
       "      <th>99</th>\n",
       "      <td>[100]</td>\n",
       "      <td>[Safaera]</td>\n",
       "      <td>[Bad Bunny, Jowell &amp; Randy &amp; Nengo Flow]</td>\n",
       "    </tr>\n",
       "  </tbody>\n",
       "</table>\n",
       "</div>"
      ],
      "text/plain": [
       "     Rank                           Song  \\\n",
       "0     [1]                   [THE SCOTTS]   \n",
       "1     [2]              [Blinding Lights]   \n",
       "2     [3]                 [Toosie Slide]   \n",
       "3     [4]                       [Savage]   \n",
       "4     [5]                      [The Box]   \n",
       "5     [6]                       [Say So]   \n",
       "6     [7]              [Don't Start Now]   \n",
       "7     [8]                      [Circles]   \n",
       "8     [9]                   [Intentions]   \n",
       "9    [10]                    [Adore You]   \n",
       "10   [11]                    [Righteous]   \n",
       "11   [12]                 [Life Is Good]   \n",
       "12   [13]                     [My Oh My]   \n",
       "13   [14]                     [ROCKSTAR]   \n",
       "14   [15]                    [The Bones]   \n",
       "15   [16]          [everything i wanted]   \n",
       "16   [17]            [Someone You Loved]   \n",
       "17   [18]               [Nobody But You]   \n",
       "18   [19]                       [I Hope]   \n",
       "19   [20]              [Blueberry Faygo]   \n",
       "20   [21]                     [Memories]   \n",
       "21   [22]                  [Chasin' You]   \n",
       "22   [23]        [Roses (Imanbek Remix)]   \n",
       "23   [24]                      [Falling]   \n",
       "24   [25]                 [High Fashion]   \n",
       "25   [26]                    [death bed]   \n",
       "26   [27]              [Hot Girl Bummer]   \n",
       "27   [28]                  [Sunday Best]   \n",
       "28   [29]    [RITMO (Bad Boys For Life)]   \n",
       "29   [30]                   [Does To Me]   \n",
       "30   [31]                 [Heart On Ice]   \n",
       "31   [32]                      [Ballin']   \n",
       "32   [33]                      [Roxanne]   \n",
       "33   [34]                 [Dance Monkey]   \n",
       "34   [35]                 [Whats Poppin]   \n",
       "35   [36]               [Break My Heart]   \n",
       "36   [37]                    [Heartless]   \n",
       "37   [38]          [HIGHEST IN THE ROOM]   \n",
       "38   [39]      [I Hope You're Happy Now]   \n",
       "39   [40]               [Beer Can't Fix]   \n",
       "40   [41]             [Level Of Concern]   \n",
       "41   [42]                    [I Love Me]   \n",
       "42   [43]        [More Hearts Than Mine]   \n",
       "43   [44]                  [After A Few]   \n",
       "44   [45]                       [All In]   \n",
       "45   [46]                 [10,000 Hours]   \n",
       "46   [47]               [Hard To Forget]   \n",
       "47   [48]                   [Supalonely]   \n",
       "48   [49]                   [Goosebumps]   \n",
       "49   [50]                [Before You Go]   \n",
       "50   [51]                 [In Your Eyes]   \n",
       "51   [52]                         [Dior]   \n",
       "52   [53]                  [Sum 2 Prove]   \n",
       "53   [54]                        [Slide]   \n",
       "54   [55]                        [Catch]   \n",
       "55   [56]                 [Walk Em Down]   \n",
       "56   [57]                    [Heartless]   \n",
       "57   [58]                         [JUMP]   \n",
       "58   [59]      [If The World Was Ending]   \n",
       "59   [60]                     [OUT WEST]   \n",
       "60   [61]                  [Stupid Love]   \n",
       "61   [62]               [Yo Perreo Sola]   \n",
       "62   [63]                    [I'm Ready]   \n",
       "63   [64]            [P*$$y Fairy (OTW)]   \n",
       "64   [65]                       [Sasuke]   \n",
       "65   [66]                     [Godzilla]   \n",
       "66   [67]                  [Find My Way]   \n",
       "67   [68]                   [Cool Again]   \n",
       "68   [69]                   [BELIEVE IT]   \n",
       "69   [70]                     [Bluebird]   \n",
       "70   [71]          [Emotionally Scarred]   \n",
       "71   [72]            [You should be sad]   \n",
       "72   [73]                 [Here And Now]   \n",
       "73   [74]                        [Turks]   \n",
       "74   [75]                   [Be A Light]   \n",
       "75   [76]  [Slow Dance In A Parking Lot]   \n",
       "76   [77]                    [Come Thru]   \n",
       "77   [78]                  [After Party]   \n",
       "78   [79]                     [Homemade]   \n",
       "79   [80]                     [Ride It.]   \n",
       "80   [81]      [God Whispered Your Name]   \n",
       "81   [82]                   [In Between]   \n",
       "82   [83]                   [Ain't Easy]   \n",
       "83   [84]                   [Party Girl]   \n",
       "84   [85]      [Die From A Broken Heart]   \n",
       "85   [86]                     [Diamonds]   \n",
       "86   [87]                        [Myron]   \n",
       "87   [88]                         [July]   \n",
       "88   [89]                 [Captain Hook]   \n",
       "89   [90]             [Bout My Business]   \n",
       "90   [91]                     [That Way]   \n",
       "91   [92]                  [Rough Ryder]   \n",
       "92   [93]                         [B.S.]   \n",
       "93   [94]                     [Underdog]   \n",
       "94   [95]            [I Love My Country]   \n",
       "95   [96]                        [NASTY]   \n",
       "96   [97]               [Drinking Alone]   \n",
       "97   [98]                         [PTSD]   \n",
       "98   [99]               [Thug Of Spades]   \n",
       "99  [100]                      [Safaera]   \n",
       "\n",
       "                                                                               Artist  \n",
       "0                                               [THE SCOTTS, Travis Scott & Kid Cudi]  \n",
       "1                                                                        [The Weeknd]  \n",
       "2                                                                             [Drake]  \n",
       "3                                                               [Megan Thee Stallion]  \n",
       "4                                                                       [Roddy Ricch]  \n",
       "5                                                                          [Doja Cat]  \n",
       "6                                                                          [Dua Lipa]  \n",
       "7                                                                       [Post Malone]  \n",
       "8                                                     [Justin Bieber Featuring Quavo]  \n",
       "9                                                                      [Harry Styles]  \n",
       "10                                                                       [Juice WRLD]  \n",
       "11                                                           [Future Featuring Drake]  \n",
       "12                                                  [Camila Cabello Featuring DaBaby]  \n",
       "13                                                     [DaBaby Featuring Roddy Ricch]  \n",
       "14                                                                     [Maren Morris]  \n",
       "15                                                                    [Billie Eilish]  \n",
       "16                                                                    [Lewis Capaldi]  \n",
       "17                                             [Blake Shelton Duet With Gwen Stefani]  \n",
       "18                                                                    [Gabby Barrett]  \n",
       "19                                                                        [Lil Mosey]  \n",
       "20                                                                         [Maroon 5]  \n",
       "21                                                                    [Morgan Wallen]  \n",
       "22                                                                        [SAINt JHN]  \n",
       "23                                                                    [Trevor Daniel]  \n",
       "24                                                    [Roddy Ricch Featuring Mustard]  \n",
       "25                                                      [Powfu Featuring beabadoobee]  \n",
       "26                                                                        [blackbear]  \n",
       "27                                                                         [Surfaces]  \n",
       "28                                                   [The Black Eyed Peas X J Balvin]  \n",
       "29                                                 [Luke Combs Featuring Eric Church]  \n",
       "30                                                                         [Rod Wave]  \n",
       "31                                                            [Mustard & Roddy Ricch]  \n",
       "32                                                                   [Arizona Zervas]  \n",
       "33                                                                      [Tones And I]  \n",
       "34                                                                      [Jack Harlow]  \n",
       "35                                                                         [Dua Lipa]  \n",
       "36                                                                       [The Weeknd]  \n",
       "37                                                                     [Travis Scott]  \n",
       "38                                                         [Carly Pearce & Lee Brice]  \n",
       "39                                                 [Thomas Rhett Featuring Jon Pardi]  \n",
       "40                                                                [twenty one pilots]  \n",
       "41                                                                      [Demi Lovato]  \n",
       "42                                                                   [Ingrid Andress]  \n",
       "43                                                                   [Travis Denning]  \n",
       "44                                                                         [Lil Baby]  \n",
       "45                                                       [Dan + Shay & Justin Bieber]  \n",
       "46                                                                         [Sam Hunt]  \n",
       "47                                                    [BENEE Featuring Gus Dapperton]  \n",
       "48                                                                     [Travis Scott]  \n",
       "49                                                                    [Lewis Capaldi]  \n",
       "50                                                                       [The Weeknd]  \n",
       "51                                                                        [Pop Smoke]  \n",
       "52                                                                         [Lil Baby]  \n",
       "53                                                              [H.E.R. Featuring YG]  \n",
       "54                                                                      [Brett Young]  \n",
       "55                                                 [NLE Choppa Featuring Roddy Ricch]  \n",
       "56                             [Diplo Presents Thomas Wesley Featuring Morgan Wallen]  \n",
       "57                                      [DaBaby Featuring YoungBoy Never Broke Again]  \n",
       "58                                                 [JP Saxe Featuring Julia Michaels]  \n",
       "59                                                    [JACKBOYS Featuring Young Thug]  \n",
       "60                                                                        [Lady Gaga]  \n",
       "61                                                                        [Bad Bunny]  \n",
       "62                                                          [Sam Smith & Demi Lovato]  \n",
       "63                                                                       [Jhene Aiko]  \n",
       "64                                                                     [Lil Uzi Vert]  \n",
       "65                                                      [Eminem Featuring Juice WRLD]  \n",
       "66                                                                           [DaBaby]  \n",
       "67                                                                       [Kane Brown]  \n",
       "68                                                          [PARTYNEXTDOOR & Rihanna]  \n",
       "69                                                                  [Miranda Lambert]  \n",
       "70                                                                         [Lil Baby]  \n",
       "71                                                                           [Halsey]  \n",
       "72                                                                    [Kenny Chesney]  \n",
       "73                                                        [NAV, Gunna & Travis Scott]  \n",
       "74  [Thomas Rhett Featuring Reba McEntire, Hillary Scott, Chris Tomlin & Keith Urban]  \n",
       "75                                                                     [Jordan Davis]  \n",
       "76                                                            [Summer Walker & Usher]  \n",
       "77                                                                      [Don Toliver]  \n",
       "78                                                                        [Jake Owen]  \n",
       "79                                                                           [Regard]  \n",
       "80                                                                      [Keith Urban]  \n",
       "81                                                                  [Scotty McCreery]  \n",
       "82                                                       [YoungBoy Never Broke Again]  \n",
       "83                                                                   [StaySolidRocky]  \n",
       "84                                                                     [Maddie & Tae]  \n",
       "85                                                       [YoungBoy Never Broke Again]  \n",
       "86                                                                     [Lil Uzi Vert]  \n",
       "87                                                        [Noah Cyrus & Leon Bridges]  \n",
       "88                                                              [Megan Thee Stallion]  \n",
       "89                           [YoungBoy Never Broke Again Featuring Sherhonda Gaulden]  \n",
       "90                                                                     [Lil Uzi Vert]  \n",
       "91                                                       [YoungBoy Never Broke Again]  \n",
       "92                                                      [Jhene Aiko Featuring H.E.R.]  \n",
       "93                                                                      [Alicia Keys]  \n",
       "94                                                             [Florida Georgia Line]  \n",
       "95                                   [DaBaby Featuring Ashanti & Megan Thee Stallion]  \n",
       "96                                                                 [Carrie Underwood]  \n",
       "97                   [G Herbo Featuring Chance The Rapper, Juice WRLD & Lil Uzi Vert]  \n",
       "98                                      [YoungBoy Never Broke Again Featuring DaBaby]  \n",
       "99                                           [Bad Bunny, Jowell & Randy & Nengo Flow]  "
      ]
     },
     "execution_count": 20,
     "metadata": {},
     "output_type": "execute_result"
    }
   ],
   "source": [
    "url = \"https://www.billboard.com/charts/hot-100\"\n",
    "get_top100(url)"
   ]
  },
  {
   "cell_type": "code",
   "execution_count": null,
   "metadata": {},
   "outputs": [],
   "source": [
    "# End of Scraping Billboard Hot 100\n",
    "######################################################\n",
    "######################################################\n",
    "######################################################\n",
    "######################################################\n",
    "######################################################"
   ]
  }
 ],
 "metadata": {
  "kernelspec": {
   "display_name": "tensors",
   "language": "python",
   "name": "tensors"
  },
  "language_info": {
   "codemirror_mode": {
    "name": "ipython",
    "version": 3
   },
   "file_extension": ".py",
   "mimetype": "text/x-python",
   "name": "python",
   "nbconvert_exporter": "python",
   "pygments_lexer": "ipython3",
   "version": "3.7.7"
  }
 },
 "nbformat": 4,
 "nbformat_minor": 2
}
